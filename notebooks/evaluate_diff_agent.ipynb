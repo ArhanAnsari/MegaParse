{
 "cells": [
  {
   "cell_type": "code",
   "execution_count": 1,
   "metadata": {},
   "outputs": [],
   "source": [
    "import sys\n",
    "sys.path.append('../')\n",
    "from megaparse.cdp.utils.diff_agent import DifferenceAgent, ContextType\n",
    "from megaparse.cdp.utils.query_engine import DiffQueryEngine\n",
    "from pathlib import Path\n",
    "from megaparse.cdp.utils.question_generator import QuestionGenerator"
   ]
  },
  {
   "cell_type": "code",
   "execution_count": 2,
   "metadata": {},
   "outputs": [],
   "source": [
    "diff_query_engine = DiffQueryEngine(Path(\"../megaparse/cdp/CDP_QUAL_CHART_01_CHARTE_PRODUITS.md\"), top_k= 15)\n",
    "question_generator = QuestionGenerator()"
   ]
  },
  {
   "cell_type": "code",
   "execution_count": 3,
   "metadata": {},
   "outputs": [],
   "source": [
    "from llama_index.core import PromptTemplate\n",
    "\n",
    "qa_prompt_tmpl_str = \"\"\"\\\n",
    "Context information is below.\n",
    "---------------------\n",
    "{context_str}\n",
    "---------------------\n",
    "Given the context information and not prior knowledge, every explanations has to be based on elements of the context. \\\n",
    "Answer the query asking about criteria on a specific topic. Note that if it is not detailed in the context, classify the answer as \"Authorized\".\n",
    "\n",
    "Query: {query_str}\n",
    "Answer: \\\n",
    "\"\"\"\n",
    "\n",
    "qa_prompt_tmpl = PromptTemplate(\n",
    "    qa_prompt_tmpl_str\n",
    ")\n",
    "\n",
    "diff_query_engine.query_engine.update_prompts(\n",
    "    {\"response_synthesizer:summary_template\": qa_prompt_tmpl}\n",
    ")"
   ]
  },
  {
   "cell_type": "code",
   "execution_count": 4,
   "metadata": {},
   "outputs": [],
   "source": [
    "agent = DifferenceAgent(diff_query_engine, document_context= None, question_generator=question_generator)\n"
   ]
  },
  {
   "cell_type": "code",
   "execution_count": 5,
   "metadata": {},
   "outputs": [
    {
     "name": "stdout",
     "output_type": "stream",
     "text": [
      "Generating Questions ...\n",
      "Verifying language and translating questions ...\n",
      "23\n"
     ]
    }
   ],
   "source": [
    "\n",
    "questions = agent.generate_questions(Path(\"../megaparse/cdp/exemple_fournisseur.xlsx\"), tab_name = 'Fiche recette', language_verification= True)\n",
    "\n",
    "print(len(questions))"
   ]
  },
  {
   "cell_type": "code",
   "execution_count": 6,
   "metadata": {},
   "outputs": [
    {
     "data": {
      "text/plain": [
       "['L\\'ingrédient \"Framboise Puree Sucree 10%\" avec un pourcentage de 34.982508745627186% est-il conforme aux exigences ?',\n",
       " 'L\\'ingrédient \"Eau\" avec un pourcentage de 5.997001499250375% est-il conforme aux exigences ?',\n",
       " 'L\\'ingrédient \"Sucre Cristal\" avec un pourcentage de 5.997001499250375% est-il conforme aux exigences ?',\n",
       " 'L\\'ingrédient \"Lamequick CE RSPO\" avec un pourcentage de 1.949025487256372% et composé de sirop de glucose, huile de palmiste, émulsifiant : E472a (esters d\\'acide acétique de mono- et diglycérides d\\'acides gras), protéine de lait est-il conforme aux exigences ?',\n",
       " 'L\\'ingrédient \"Creme 35% UHT 10L DDJ\" avec un pourcentage de 49.97501249375313% et composé de crème de LAIT, stabilisant : E407 est-il conforme aux exigences ?',\n",
       " 'L\\'ingrédient \"Gelatine Bovine 200 Bloom\" avec un pourcentage de 1.099450274862569% est-il conforme aux exigences ?',\n",
       " 'L\\'ingrédient \"Pur Pate de Pistache\" avec un pourcentage de 4.620360388110273% est-il conforme aux exigences ?',\n",
       " 'L\\'ingrédient \"Lait Entier UHT Outre 10L\" avec un pourcentage de 30.80240258740182% est-il conforme aux exigences ?',\n",
       " 'L\\'ingrédient \"MP73 arome pistache naturel\" avec un pourcentage de 0.6622516556291391% est-il conforme aux exigences ?',\n",
       " 'L\\'ingrédient \"Spiruline Verte Poudre\" avec un pourcentage de 3.846153846153846% et composé d\\'extrait de spiruline est-il conforme aux exigences ?',\n",
       " 'L\\'ingrédient \"Prepa Biscuit Nature Clean\" avec un pourcentage de 52.80437756497948% et composé de sucre 45.4%, amidon de BLE 23.3%, farine de BLE 20.7%, spongolit pure 6.4% (hydrolysat de protéines de LAIT, glucose), fibres d\\'AVOINE 4.2% est-il conforme aux exigences ?',\n",
       " 'L\\'ingrédient \"Graisse DS\" avec un pourcentage de 0% et composé de graisse de démoulage (huiles végétales non hydrogénées (colza), agent d\\'enrobage : E903, eau) est-il conforme aux exigences ?',\n",
       " 'L\\'ingrédient \"Framboise Brisures\" avec un pourcentage de 60.35003017501509% est-il conforme aux exigences ?',\n",
       " 'L\\'ingrédient \"Pectine 325 NH 95\" avec un pourcentage de 1.5087507543753773% est-il conforme aux exigences ?',\n",
       " 'L\\'ingrédient \"Choc Blanc G-WLL263M-558\" avec un pourcentage de 75% et composé de sucre, poudre de LAIT entier, beurre de cacao, émulsifiant : E322 (SOJA), arôme naturel de vanille est-il conforme aux exigences ?',\n",
       " 'L\\'ingrédient \"Huile de Tournesol Bidon\" avec un pourcentage de 12.5% est-il conforme aux exigences ?',\n",
       " 'L\\'ingrédient \"Crepes Brisures\" avec un pourcentage de 12.5% et composé de farine de BLE, sucre, BEURRE concentré, LAIT écrémé en poudre, malt d\\'ORGE, sel est-il conforme aux exigences ?',\n",
       " 'L\\'ingrédient \"Glassage Miroir Neutre Napp\" avec un pourcentage de 73.18977294905993% et composé d\\'eau, sirop de glucose, sucre, gélifiants : E406, E440, épaississants : E466, E415, acidifiant : E330, conservateur : E202 est-il conforme aux exigences ?',\n",
       " 'L\\'ingrédient \"Sucre Cristal N2\" avec un pourcentage de 75.26881720430107% est-il conforme aux exigences ?',\n",
       " 'L\\'ingrédient \"MP3616 Iota Carraghenanes\" avec un pourcentage de 3.225806451612903% et composé de gélifiant : E407 (carraghénane, dextrose) est-il conforme aux exigences ?',\n",
       " 'L\\'ingrédient \"Glucose Atomise BT 1 25KG\" avec un pourcentage de 21.50537634408602% et composé de sirop de glucose est-il conforme aux exigences ?',\n",
       " 'L\\'ingrédient \"Col Paprika 04126 Liquide\" avec un pourcentage de 2.247191011235955% et composé de colorant : E160c est-il conforme aux exigences ?',\n",
       " 'L\\'ingrédient \"Colorant Rouge Sevar 4585\" avec un pourcentage de 13.48314606741573% et composé d\\'ingrédients colorants (jus concentré de betterave, jus concentré d\\'acérola, jus de citron) est-il conforme aux exigences ?']"
      ]
     },
     "execution_count": 6,
     "metadata": {},
     "output_type": "execute_result"
    }
   ],
   "source": [
    "questions"
   ]
  },
  {
   "cell_type": "code",
   "execution_count": 5,
   "metadata": {},
   "outputs": [],
   "source": [
    "agent.questions = ['La « Framboise » est-elle conforme aux exigences ?',\n",
    " \"L'« Eau » est-elle conforme aux exigences ?\",\n",
    " 'Le « Sucre Cristal » est-il conforme aux exigences ?',\n",
    " 'Le « Sirop de glucose » est-il conforme aux exigences ?',\n",
    " \"L'« Huile de palmiste » est-elle conforme aux exigences ?\",\n",
    " \"L'« Emulsifiant : E472a (esters d'acide acétique de mono- et diglycérides d'acides gras) » est-il conforme aux exigences ?\",\n",
    " 'La « Protéine de lait » est-elle conforme aux exigences ?',\n",
    " 'La « Crème de lait » est-elle conforme aux exigences ?',\n",
    " 'Le « Stabilisant : E407 » est-il conforme aux exigences ?',\n",
    " 'La « Gélatine bovine » est-elle conforme aux exigences ?',\n",
    " \"L'« Oeuf entier » est-il conforme aux exigences ?\",\n",
    " 'La « Purée de framboise » est-elle conforme aux exigences ?',\n",
    " 'La « Pectine » est-elle conforme aux exigences ?',\n",
    " 'Le « Sucre » dans le « Chocolat blanc » est-il conforme aux exigences ?',\n",
    " 'La « Poudre de lait entier » dans le « Chocolat blanc » est-elle conforme aux exigences ?',\n",
    " 'Le « Beurre de cacao » dans le « Chocolat blanc » est-il conforme aux exigences ?',\n",
    " \"L'« Emulsifiant : E322 (soja) » dans le « Chocolat blanc » est-il conforme aux exigences ?\",\n",
    " \"L'« Arôme naturel de vanille » dans le « Chocolat blanc » est-il conforme aux exigences ?\",\n",
    " \"L'« Huile de tournesol » est-elle conforme aux exigences ?\",\n",
    " 'La « Farine de blé » est-elle conforme aux exigences ?',\n",
    " 'Le « Beurre concentré » est-il conforme aux exigences ?',\n",
    " 'Le « Lait écrémé en poudre » est-il conforme aux exigences ?',\n",
    " \"Le « Malt d'orge » est-il conforme aux exigences ?\",\n",
    " 'Le « Sel » est-il conforme aux exigences ?',\n",
    " 'Le « Colorant : E160c » est-il conforme aux exigences ?',\n",
    " 'Le « Jus concentré de betterave » est-il conforme aux exigences ?',\n",
    " \"Le « Jus concentré d'acérola » est-il conforme aux exigences ?\",\n",
    " 'Le « Jus de citron » est-il conforme aux exigences ?',\n",
    " 'Le « Gélifiant : E406 » est-il conforme aux exigences ?',\n",
    " 'Le « Gélifiant : E440 » est-il conforme aux exigences ?',\n",
    " \"L'« Epaississant : E466 » est-il conforme aux exigences ?\",\n",
    " \"L'« Epaississant : E415 » est-il conforme aux exigences ?\",\n",
    " \"L'« Acidifiant : E330 » est-il conforme aux exigences ?\",\n",
    " 'Le « Conservateur : E202 » est-il conforme aux exigences ?',\n",
    " \"L'« Hydrolysat de protéines de lait » est-il conforme aux exigences ?\",\n",
    " \"Les « Fibres d'avoine » sont-elles conformes aux exigences ?\",\n",
    " 'Le « Glucose » est-il conforme aux exigences ?',\n",
    " 'Le « Gélifiant : E440ii » est-il conforme aux exigences ?',\n",
    " \"L'« Arôme naturel de pistache » est-il conforme aux exigences ?\",\n",
    " 'Le « Gélifiant : E407 (carraghénanes, dextrose) » est-il conforme aux exigences ?',\n",
    " \"L'« Extrait de spiruline » est-il conforme aux exigences ?\"]"
   ]
  },
  {
   "cell_type": "markdown",
   "metadata": {},
   "source": [
    "Questions for evaluating the query engine:\n",
    "\n",
    "'La « Framboise » est-elle conforme aux exigences ?',\n",
    " \"L'« Eau » est-elle conforme aux exigences ?\",\n",
    " 'Le « Sucre Cristal » est-il conforme aux exigences ?',\n",
    " 'Le « Sirop de glucose » est-il conforme aux exigences ?',\n",
    " \"L'« Huile de palmiste » est-elle conforme aux exigences ?\",\n",
    " \"L'« Emulsifiant : E472a (esters d'acide acétique de mono- et diglycérides d'acides gras) » est-il conforme aux exigences ?\",\n",
    " 'La « Protéine de lait » est-elle conforme aux exigences ?',\n",
    " 'La « Crème de lait » est-elle conforme aux exigences ?',\n",
    " 'Le « Stabilisant : E407 » est-il conforme aux exigences ?',\n",
    " 'La « Gélatine bovine » est-elle conforme aux exigences ?',\n",
    " \"L'« Oeuf entier » est-il conforme aux exigences ?\",\n",
    " 'La « Purée de framboise » est-elle conforme aux exigences ?',\n",
    " 'La « Pectine » est-elle conforme aux exigences ?',\n",
    " 'Le « Sucre » dans le « Chocolat blanc » est-il conforme aux exigences ?',\n",
    " 'La « Poudre de lait entier » dans le « Chocolat blanc » est-elle conforme aux exigences ?',\n",
    " 'Le « Beurre de cacao » dans le « Chocolat blanc » est-il conforme aux exigences ?',\n",
    " \"L'« Emulsifiant : E322 (soja) » dans le « Chocolat blanc » est-il conforme aux exigences ?\",\n",
    " \"L'« Arôme naturel de vanille » dans le « Chocolat blanc » est-il conforme aux exigences ?\",\n",
    " \"L'« Huile de tournesol » est-elle conforme aux exigences ?\",\n",
    " 'La « Farine de blé » est-elle conforme aux exigences ?',\n",
    " 'Le « Beurre concentré » est-il conforme aux exigences ?',\n",
    " 'Le « Lait écrémé en poudre » est-il conforme aux exigences ?',\n",
    " \"Le « Malt d'orge » est-il conforme aux exigences ?\",\n",
    " 'Le « Sel » est-il conforme aux exigences ?',\n",
    " 'Le « Colorant : E160c » est-il conforme aux exigences ?',\n",
    " 'Le « Jus concentré de betterave » est-il conforme aux exigences ?',\n",
    " \"Le « Jus concentré d'acérola » est-il conforme aux exigences ?\",\n",
    " 'Le « Jus de citron » est-il conforme aux exigences ?',\n",
    " 'Le « Gélifiant : E406 » est-il conforme aux exigences ?',\n",
    " 'Le « Gélifiant : E440 » est-il conforme aux exigences ?',\n",
    " \"L'« Epaississant : E466 » est-il conforme aux exigences ?\",\n",
    " \"L'« Epaississant : E415 » est-il conforme aux exigences ?\",\n",
    " \"L'« Acidifiant : E330 » est-il conforme aux exigences ?\",\n",
    " 'Le « Conservateur : E202 » est-il conforme aux exigences ?',\n",
    " \"L'« Hydrolysat de protéines de lait » est-il conforme aux exigences ?\",\n",
    " \"Les « Fibres d'avoine » sont-elles conformes aux exigences ?\",\n",
    " 'Le « Glucose » est-il conforme aux exigences ?',\n",
    " 'Le « Gélifiant : E440ii » est-il conforme aux exigences ?',\n",
    " \"L'« Arôme naturel de pistache » est-il conforme aux exigences ?\",\n",
    " 'Le « Gélifiant : E407 (carraghénanes, dextrose) » est-il conforme aux exigences ?',\n",
    " \"L'« Extrait de spiruline » est-il conforme aux exigences ?\"]"
   ]
  },
  {
   "cell_type": "code",
   "execution_count": 7,
   "metadata": {},
   "outputs": [],
   "source": [
    "# additional_context = ContextType(category='Entree de Gamme', context='pour les produits de la catégorie Entree de Gamme ?')\n",
    "# agent.run(additional_context=additional_context, verbose=True)"
   ]
  },
  {
   "cell_type": "code",
   "execution_count": 12,
   "metadata": {},
   "outputs": [
    {
     "name": "stdout",
     "output_type": "stream",
     "text": [
      "Querying generated questions to the reference document...\n",
      "3 validation errors for Ingredient\n",
      "detailed_answer\n",
      "  field required (type=value_error.missing)\n",
      "decision\n",
      "  field required (type=value_error.missing)\n",
      "used_chunks\n",
      "  field required (type=value_error.missing)\n",
      "Error with question: Le « Malt d'orge » est-il conforme aux exigences ?\n",
      "Retry ...\n",
      "3 validation errors for Ingredient\n",
      "detailed_answer\n",
      "  field required (type=value_error.missing)\n",
      "decision\n",
      "  field required (type=value_error.missing)\n",
      "used_chunks\n",
      "  field required (type=value_error.missing)\n",
      "Error with question: La « Gélatine bovine » est-elle conforme aux exigences ?\n",
      "Retry ...\n",
      "Node found\n",
      "Node found\n",
      "Node found\n",
      "Node found\n",
      "Node found\n",
      "Node found\n",
      "Node found\n",
      "Node found\n",
      "Node found\n",
      "Node found\n",
      "Node found\n",
      "Node found\n",
      "Node found\n",
      "Node found\n",
      "Node found\n",
      "Node found\n",
      "Node found\n",
      "Node found\n",
      "Node found\n",
      "Node found\n",
      "Node found\n",
      "Node found\n",
      "Node found\n",
      "Node found\n",
      "Node found\n",
      "Node found\n",
      "Node found\n",
      "Node found\n",
      "Node found\n",
      "Node found\n",
      "Node found\n",
      "Node found\n",
      "Node found\n",
      "Node found\n",
      "Node found\n",
      "Node found\n",
      "Node found\n",
      "Node found\n",
      "Node found\n",
      "Node found\n",
      "Node found\n",
      "Node found\n",
      "Node found\n",
      "Node found\n",
      "Node found\n",
      "Node found\n",
      "Node found\n",
      "Node found\n",
      "Node found\n",
      "Node found\n",
      "Node found\n",
      "Node found\n",
      "Node found\n",
      "lait entier uht -> no_match\n",
      "amidon de bl -> no_match\n",
      "jaune doeufs issus dlevage ponte au sol -> no_match\n",
      "pte de pistache -> no_match\n",
      "List of errors by category : \n",
      "\n",
      "Errors for Entree de Gamme:\n",
      "==================================================\n",
      "\n",
      "Errors for Coeur de Gamme:\n",
      "==================================================\n",
      "lait entier uht: 1 errors\n",
      "amidon de bl: 1 errors\n",
      "jaune doeufs issus dlevage ponte au sol: 1 errors\n",
      "glatine bovine: 1 errors\n",
      "pte de pistache: 1 errors\n",
      "\n",
      "Errors for Haut de Gamme:\n",
      "==================================================\n",
      "\n",
      "Metrics for Coeur de Gamme.0:\n",
      "==================================================\n"
     ]
    },
    {
     "name": "stderr",
     "output_type": "stream",
     "text": [
      "/Users/chloed./.local/share/virtualenvs/MegaParse-onLGVT8Y/lib/python3.12/site-packages/sklearn/metrics/_classification.py:1517: UndefinedMetricWarning: Precision is ill-defined and being set to 0.0 in labels with no predicted samples. Use `zero_division` parameter to control this behavior.\n",
      "  _warn_prf(average, modifier, f\"{metric.capitalize()} is\", len(result))\n",
      "/Users/chloed./.local/share/virtualenvs/MegaParse-onLGVT8Y/lib/python3.12/site-packages/sklearn/metrics/_classification.py:1517: UndefinedMetricWarning: Recall is ill-defined and being set to 0.0 in labels with no true samples. Use `zero_division` parameter to control this behavior.\n",
      "  _warn_prf(average, modifier, f\"{metric.capitalize()} is\", len(result))\n"
     ]
    },
    {
     "data": {
      "image/png": "[encoded data removed]",
      "text/plain": [
       "<Figure size 800x600 with 2 Axes>"
      ]
     },
     "metadata": {},
     "output_type": "display_data"
    },
    {
     "name": "stdout",
     "output_type": "stream",
     "text": [
      "Accuracy: 86.49%\n",
      "            Precision    Recall\n",
      "Authorized        1.0  0.848485\n",
      "To Avoid          0.8  1.000000\n",
      "Forbidden         0.0  0.000000\n",
      "no_match          0.0  0.000000\n"
     ]
    }
   ],
   "source": [
    "additional_contexts = [\n",
    "                        ContextType(category='Coeur de Gamme', context='pour les produits de la catégorie Coeur de Gamme ?')\n",
    "                        # ContextType(category='Entree de Gamme', context='pour les produits de la catégorie Entree de Gamme ?'),\n",
    "                        # ContextType(category='Haut de Gamme', context='pour les produits de la catégorie Haut de Gamme ?')\n",
    "                        ]\n",
    "generated_df = agent.evaluate(source_path= None, target_path= Path('../megaparse/cdp/ground_truth.csv'), tab_name= None, additional_contexts=additional_contexts, verbose=True, compute_all=False)\n"
   ]
  },
  {
   "cell_type": "code",
   "execution_count": 10,
   "metadata": {},
   "outputs": [
    {
     "name": "stdout",
     "output_type": "stream",
     "text": [
      "Le contexte ne fournit pas d'informations spécifiques sur le beurre de cacao dans le chocolat blanc. Cependant, il est mentionné que le cacao non certifié durable est interdit pour tous les nouveaux produits développés (NPD) et qu'un plan d'action est nécessaire pour remplacer le cacao non certifié dans les produits existants. Par conséquent, si le beurre de cacao utilisé dans le chocolat blanc est certifié durable, il serait conforme aux exigences. Sinon, il ne le serait pas.\n",
      "To Avoid\n"
     ]
    }
   ],
   "source": [
    "print(agent.get_detail(\"Coeur de Gamme\", 0, name = \"Beurre de cacao\")[\"Coeur de Gamme.0.detail\"].values[0])\n",
    "print(agent.get_detail(\"Coeur de Gamme\", 0, name = \"Beurre de cacao\")[\"Coeur de Gamme.0\"].values[0])"
   ]
  },
  {
   "cell_type": "code",
   "execution_count": 8,
   "metadata": {},
   "outputs": [
    {
     "name": "stdout",
     "output_type": "stream",
     "text": [
      "{\"name\": \"Sirop de glucose\", \"detailed_answer\": \"Le sirop de glucose est un ingr\\u00e9dient controvers\\u00e9 en raison de son niveau de transformation \\u00e9lev\\u00e9 et du manque de transparence sur le niveau de sucre pr\\u00e9sent dans le produit. Pour les produits de la cat\\u00e9gorie Coeur de Gamme, les ingr\\u00e9dients controvers\\u00e9s sont \\u00e0 \\u00e9viter.\", \"decision\": \"To Avoid\", \"used_chunks\": [0, 1], \"more_info\": \"look into chunk id 0 to understand the controversy around sirop de glucose, then look into chunk id 1 to see that controversial ingredients are to be avoided in Coeur de Gamme.\"}\n"
     ]
    }
   ],
   "source": [
    "response = await agent.diff_query_engine.query_engine.aquery(\"Le « Sirop de glucose » est-il conforme aux exigences pour les produits de la catégorie Coeur de Gamme ?\")\n",
    "print(response)"
   ]
  },
  {
   "cell_type": "code",
   "execution_count": 13,
   "metadata": {},
   "outputs": [
    {
     "data": {
      "text/plain": [
       "PydanticResponse(response=Ingredient(name='E407', detailed_answer='Le stabilisant E407, également connu sous le nom de carraghénane, est classé parmi les additifs oranges. Les additifs oranges sont ceux pour lesquels les rapports scientifiques sont contradictoires. Pour les produits de la catégorie Cœur de Gamme, les additifs oranges sont à éviter.', decision=<DecisionEnum.to_avoid: 'To Avoid'>, used_chunks=[0, 1]), source_nodes=[NodeWithScore(node=TextNode(id_='45c82c0a-5792-494c-9f04-1025a5279347', embedding=None, metadata={'info_density': 53}, excluded_embed_metadata_keys=[], excluded_llm_metadata_keys=[], relationships={<NodeRelationship.SOURCE: '1'>: RelatedNodeInfo(node_id='c9b86108-0958-4b9b-b658-dcc98ccb2943', node_type=<ObjectType.DOCUMENT: '4'>, metadata={}, hash='78f3f962d977fc5955368245fea9524b4257887505299c9f064866cd06c532ff')}, text='Chunk #0 : \\n 1. Exigence recette\\n\\nPour le développement de nos produits, nous souhaitons favoriser une offre saine avec des recettes simples (sans colorant, sans arôme, sans conservateur), avec des ingrédients de qualité, en favorisant des produits locaux et labellisés.\\n\\nLe fournisseur s’engage à respecter la réglementation européenne et nationale ainsi que les codes d’usages professionnels applicables aux produits surgelés vendus à Coup de Pates.\\n\\nPour les produits commercialisés sous une marque appartenant à Coup de Pates, le fournisseur s’engage également à respecter les exigences spécifiques de cette même marque.\\n\\nDans ce cas, nos exigences recettes sont spécifiques à trois niveaux gammes : Entrée de gamme, Cœur de gamme, Haut de gamme.\\n\\nPour les produits développés en réponse à des demandes spécifiques de nos clients, il vous sera également demandé de prendre leurs exigences en considération.\\n\\n| Caractéristiques | Entrée de gamme | Cœur de gamme | Haut de Gamme |\\n|------------------|-----------------|---------------|---------------|\\n| Ingrédients soumis à déclaration OGM | INTERDIT | INTERDIT | INTERDIT |\\n| Traitement par ionisation | INTERDIT | INTERDIT | INTERDIT |\\n| Colorants azoïques (E102, E104, E110, E122, E124, E129) | INTERDIT | INTERDIT | INTERDIT |\\n| Nanoparticules (E170, E171, E172, E174, E152, E341, E551 et E552) | INTERDIT | INTERDIT | INTERDIT |\\n| Glutamates et exhausteurs de goût | INTERDIT | INTERDIT | INTERDIT |\\n| Œufs de poules élevées en cage | INTERDIT | INTERDIT | INTERDIT |\\n| Matières grasses partiellement hydrogénées | INTERDIT | INTERDIT | INTERDIT |\\n| Acides gras trans non naturellement présents | INTERDIT | INTERDIT | INTERDIT |\\n| Édulcorants de synthèse | INTERDIT | INTERDIT | INTERDIT |\\n| Viande Séparée Mécaniquement - VSM | INTERDIT | INTERDIT | INTERDIT |\\n| Cacao non certifié durable | * INTERDIT pour tous les NPD et plan action pour remplacer le cacao non certifié dans l’existant. | INTERDIT | INTERDIT |\\n| Gélatine porcine | INTERDIT | INTERDIT | INTERDIT |\\n| Gélatine animale – (autre que porcine) | À ÉVITER | INTERDIT (tolérance dans les pâtisseries) | INTERDIT (tolérance dans les pâtisseries) |\\n| Huile de palme + palmiste non RSPO | * INTERDIT pour tous les NPD et plan action pour retirer dans l’existant - (tolérée dans supports d’additifs) - En aucun cas, l’huile de palme non RSPO ne pourra être substituée par de l’huile de coprah ou coco. | INTERDIT | INTERDIT |\\n| Huile de palme + palmiste RSPO (certification « Segregated » demandée, à minima « Mass Balance » soumis à dérogation) | À ÉVITER | À ÉVITER | INTERDIT |\\n|                              | A ÉVITER | INTERDIT (tolérance dans les pâtisseries *sauf arômes de fumée et vanilline) | INTERDIT (sauf arômes de fumée) |\\n|------------------------------|----------|----------------------------------------------------------------------------|---------------------------------|\\n| Arômes artificiels           | A ÉVITER | INTERDIT (tolérance dans les pâtisseries *sauf arômes de fumée et vanilline) | INTERDIT (sauf arômes de fumée) |\\n| Colorants artificiels        | A ÉVITER | A ÉVITER Interdit dans les produits salés                                   | INTERDIT                        |\\n| Ingrédients controversés (cf. Annexe IV) | A ÉVITER | A ÉVITER                                                                    | INTERDIT                        |\\n| Additifs rouges (cf. Annexe I) | A ÉVITER | INTERDIT (hors nitrites et polyphosphates)                                  | INTERDIT (hors nitrites dans les produits de salaison) |\\n| Additifs Oranges (cf. Annexe II) | A ÉVITER | A ÉVITER                                                                    | A ÉVITER                        |\\n| Nitrites (E250 à E252)       | A ÉVITER | A ÉVITER                                                                    | INTERDIT (Hors produits de salaison) |\\n| Polyphosphates (E450 à 452 - E339 à 341) | A ÉVITER | A ÉVITER                                                                    | INTERDIT                        |\\n| Viande et volaille origine hors UE | A ÉVITER | A ÉVITER                                                                    | INTERDIT                        |\\n\\nL’ensemble de ces critères est applicable à tous les produits vendus par Coup de Pates. Des dérogations peuvent être accordées au cas par cas, sur justificatifs fournis par le fournisseur et après validation par la direction qualité Coup de Pates.', start_char_idx=2, end_char_idx=4462, text_template='{metadata_str}\\n\\n{content}', metadata_template='{key}: {value}', metadata_seperator='\\n'), score=1.749826956699886), NodeWithScore(node=TextNode(id_='07822fbc-4d10-4d8b-81d7-687035608647', embedding=None, metadata={'info_density': 8}, excluded_embed_metadata_keys=[], excluded_llm_metadata_keys=[], relationships={<NodeRelationship.SOURCE: '1'>: RelatedNodeInfo(node_id='f3ae2c50-a5e0-4523-ae5e-efc8af607535', node_type=<ObjectType.DOCUMENT: '4'>, metadata={}, hash='aa28066ceaf2fd11af479677a1671e4ac22f2a8d0cce390d0b6cfbc847552716')}, text='Chunk #1 : \\n ANNEXE II : Additifs oranges : additifs pour lesquels les rapports scientifiques sont contradictoires\\n\\n| Additif                          | Code  | Additif                                                                 | Code  |\\n|----------------------------------|-------|------------------------------------------------------------------------|-------|\\n| Acide carminique, carmins        | E 120 | Esters lactiques des mono- et diglycérides d’acides gras                | E 472b|\\n| Bleu patenté V                   | E 131 | Esters citriques des mono- et diglycérides d’acides gras                | E 472c|\\n| Caramel de sulfite caustique     | E 150b| Esters tartriques des mono- et diglycérides d’acides gras               | E 472d|\\n| Or                               | E 175 | Esters monoacétyltartriques et diacétyltartriques des mono- et diglycérides d’acides gras | E 472e|\\n| Acide benzoïque                  | E 210 | Esters mixtes acétiques et tartriques des mono- et diglycérides d’acides gras | E 472f|\\n| Benzoate de sodium               | E 211 | Sucroesters d’acides gras                                               | E 473 |\\n| Anhydride sulfureux              | E 220 | Esters polyglycériques d’acides gras                                    | E 475 |\\n| Sulfite de sodium                | E 221 | Esters de propane-1,2-diol d’acides gras                                | E 477 |\\n| Sulfite acide de sodium          | E 222 | Stéaroyl-2-lactylate de sodium                                          | E 481 |\\n| Disulfite de sodium              | E 223 | Stéaroyl-2-lactylate de calcium                                         | E 482 |\\n| Disulfite de potassium           | E 224 | Tartrate de stéaryle                                                    | E 483 |\\n| Sulfite de calcium               | E 226 | Diméthylpolysiloxane                                                    | E 900 |\\n| Sulfite acide de calcium         | E 227 | Advantame                                                               | E 969 |\\n| Sulfite acide de potassium       | E 228 | Extraits de quillaia                                                    | E 999 |\\n| Natamycine                       | E 235 | Lysozyme                                                                | E 1105|\\n| Éthylène-diamine-tétra-acétate de calcium disodium (calcium disodium EDTA) | E 385 | Amidon oxydé                                                            | E 1404|\\n| Alginate de propane-1,2-diol     | E 405 | Phosphate de monoamidon                                                 | E 1410|\\n| Algues Euchema transformées | E 407a | Phosphate de diamidon | E 1412 |\\n|-----------------------------|--------|-----------------------|--------|\\n| Carraghénanes               | E 407  | Phosphate de diamidon phosphaté | E 1413 |\\n| Cellulose                   | E 460  | Phosphate de diamidon acétylé | E 1414 |\\n| Hydroxypropylcellulose      | E 463  | Amidon acétylé | E 1420 |\\n| Hydroxypropylméthylcellulose| E 464  | Adipate de diamidon acétylé | E 1422 |\\n| Carboxyméthyl-cellulose sodique, gomme cellulosique | E 466 | Amidon hydroxypropylé | E 1440 |\\n| Sels de sodium, de potassium, calcium d’acides gras, magnésium d’acides gras | E 470 | Phosphate de diamidon hydroxypropylé | E 1442 |\\n| Mono- et diglycérides d’acides gras | E 471 | Octényle succinate d’amidon sodique | E 1450 |\\n| Esters acétiques des mono- et diglycérides d’acides gras | E 472a | Amidon oxydé acétylé | E 1451 |', start_char_idx=2, end_char_idx=3474, text_template='{metadata_str}\\n\\n{content}', metadata_template='{key}: {value}', metadata_seperator='\\n'), score=1.0767332222552248), NodeWithScore(node=TextNode(id_='8f4d5b57-d288-4eb9-b502-575ed90e7658', embedding=None, metadata={'info_density': 2}, excluded_embed_metadata_keys=[], excluded_llm_metadata_keys=[], relationships={<NodeRelationship.SOURCE: '1'>: RelatedNodeInfo(node_id='91e68d6f-8236-438a-a48a-5b16e43443a9', node_type=<ObjectType.DOCUMENT: '4'>, metadata={}, hash='e198db12be6b47d7ae7ac5140ebab36ea070159aca875a5da6e1461b93a4668b')}, text=\"Chunk #2 : \\n 3. Exigences générales relatives au fournisseur\\n\\nLe fournisseur se doit de disposer de moyens de contrôle et d'enregistrement permettant le respect de la chaîne du froid dans son stockage et son transport de denrées congelées/surgelées.\\n\\nTout envoi d’échantillon devra être accompagné de la « Fiche d’évolution produit » ou d’une fiche technique fournisseur, reprenant à minima les données techniques demandées dans le document précédent (composition, dimensions, DDM ...). Toute autre information jugée nécessaire par le service qualité Coup de Pates devra être communiquée sur demande. Le cahier des charges Coup de Pates devra être rempli dès que le référencement du produit aura été confirmé.\\n\\nIl revient au fournisseur d’appliquer la plus grande diligence dans le transfert exhaustif de ces données. Le dossier établi à l’issue du processus de référencement sera validé à la fois par le fournisseur et un représentant du service qualité Coup de Pates. Toute modification du dossier technique devra être validée en amont par le service qualité Coup de Pates. Si cela est jugé nécessaire, des échantillons (produit actuel / produit modifié) devront être envoyés au service qualité Coup de Pates. Le cahier des charges devra être revu dans son intégralité tous les 5 ans. Même s’il n’y a pas de modification, le cahier des charges sera de nouveau signé avec la nouvelle date.\", start_char_idx=2, end_char_idx=1379, text_template='{metadata_str}\\n\\n{content}', metadata_template='{key}: {value}', metadata_seperator='\\n'), score=0.4644455646249558), NodeWithScore(node=TextNode(id_='019b6daf-fff2-4882-a7c3-2df12e659b61', embedding=None, metadata={'info_density': 2}, excluded_embed_metadata_keys=[], excluded_llm_metadata_keys=[], relationships={<NodeRelationship.SOURCE: '1'>: RelatedNodeInfo(node_id='784d4551-2e2f-4b93-be75-e7b3f729737f', node_type=<ObjectType.DOCUMENT: '4'>, metadata={}, hash='6ffd5ae38016941d36f53d77ee5e7b15b5943d17cf174af10caedf7bd71cd248')}, text='Chunk #3 : \\n 7. Non conformités\\n\\nEn cas de non-conformité produit, sanitaire ou réglementaire, le fournisseur s’engage à alerter immédiatement Coup de Pates et à communiquer les éléments de traçabilité nécessaires.\\n\\nEn cas de non-conformité détectée par le service qualité Coup de Pates ou un de ses clients, une notification est envoyée au fournisseur. Celui-ci s’engage à communiquer son analyse et son plan d’action dans les délais demandés.', start_char_idx=2, end_char_idx=433, text_template='{metadata_str}\\n\\n{content}', metadata_template='{key}: {value}', metadata_seperator='\\n'), score=0.42938336462495585), NodeWithScore(node=TextNode(id_='0969ff86-eee3-4677-9d5b-477801c537d9', embedding=None, metadata={'info_density': 17}, excluded_embed_metadata_keys=[], excluded_llm_metadata_keys=[], relationships={<NodeRelationship.SOURCE: '1'>: RelatedNodeInfo(node_id='4268a29f-8efe-491c-bf7f-3664b344d288', node_type=<ObjectType.DOCUMENT: '4'>, metadata={}, hash='82360f19ebabca83c8c4b72dc7c8b96bed816f061ce942c2cd1ea971a6b933b4')}, text=\"Chunk #4 : \\n ANNEXE III : Additifs verts : additifs identifiés à ce jour comme non dangereux pour la santé.\\n\\n| Additif                                      | Code  | Additif                                      | Code  |\\n|----------------------------------------------|-------|----------------------------------------------|-------|\\n| Curcumine                                   | E 100 | Tartrates de potassium                       | E 336 |\\n| Riboflavines                                | E 101 | Malate de potassium                          | E 351 |\\n| Chlorophylles et chlorophyllines            | E 140 | Acide métatartarique                         | E 353 |\\n| Complexes cuivre-chlorophylles et cuivre-chlorophyllines | E 141 | Tartrate de calcium                          | E 354 |\\n| Caramel ordinaire                           | E 150a| Extraits de romarin                          | E 392 |\\n| Charbon végétal médicinal                   | E 153 | Acide alginique                              | E 400 |\\n| Caroténoïdes                                | E 160a| Alginate de sodium                           | E 401 |\\n| Bixine de rocou / Norbixine de rocou        | E 160b| Alginate de calcium                          | E 404 |\\n| Extrait de paprika, capsanthine, capsorubine| E 160c| Agar-agar                                    | E 406 |\\n| Lycopène                                    | E 160d| Farine de graines de caroube                 | E 410 |\\n| β- apocaroténal-8' (C 30)                   | E 160e| Gomme guar                                   | E 412 |\\n| Lutéine                                     | E 161b| Gomme adragante                              | E 413 |\\n| Rouge de betterave, bétanine                | E 162 | Gomme arabique ou gomme d’acacia             | E 414 |\\n| Anthocyanes                                 | E 163 | Gomme xanthane                               | E 415 |\\n| Acide sorbique                              | E 200 | Gomme Karaya                                 | E 416 |\\n| Sorbate de potassium                        | E 202 | Gomme Tara                                   | E 417 |\\n| Acide acétique                              | E 260 | Gomme Gellane                                | E 418 |\\n| Acétates de potassium                       | E 261 | Sorbitols                                    | E 420 |\\n| Acétates de sodium                          | E 262 | Glycérol                                     | E 422 |\\n| Acétate de calcium                          | E 263 | Gomme cassia                                 | E 427 |\\n| Acide lactique                              | E 270 | Pectines                                     | E 440 |\\n| Propionate de calcium                       | E 282 | Méthylcellulose                              | E 461 |\\n| Dioxyde de carbone                          | E 290 | Sels de sodium, de potassium et de calcium d’acides gras | E 470a |\\n| Acide malique                               | E 296 | Sels de magnésium d’acides gras              | E 470b |\\n| Acide ascorbique                            | E 300 | Polyglycérols de polyglycérol                | E 476 |\\n| Ascorbate de sodium                         | E 301 | Phytostérols riches en stigmastérol          | E 499 |\\n| Ascorbate de calcium                        | E 302 | Carbonates de sodium                         | E 500 |\\n| Esters d’acides gras de l’acide ascorbique  | E 304 | Carbonates de potassium                      | E 501 |\\n| Extrait riche en tocophérols                | E 306 | Carbonates d’ammonium                        | E 503 |\\n| Alpha-tocophérol                            | E 307 | Carbonates de magnésium                      | E 504 |\\n| Érythorbate de sodium                       | E 316 | Acide chlorhydrique                          | E 507 |\\n| Lécithines                                  | E 322 | Chlorure de potassium                        | E 508 |\\n| Lactate de sodium                           | E 325 | Chlorure de calcium                          | E 509 |\\n| Lactate de potassium                        | E 326 | Chlorure de magnésium                        | E 511 |\\n| Lactate de calcium                          | E 327 | Acide sulfurique                             | E 513 |\\n| Acide citrique                              | E 330 | Sulfates de sodium                           | E 514 |\\n| Citrates de sodium                          | E 331 | Sulfates de potassium                        | E 515 |\\n| Citrates de potassium                       | E 332 | Sulfate de calcium                           | E 516 |\\n| Citrates de calcium                         | E 333 | Sulfate d’ammonium                           | E 517 |\\n| Acide tartrique [L (+)]                     | E 334 | Hydroxyde de sodium                          | E 524 |\\n| Hydroxyde de potassium       | E 525  | Shellac                                | E 904  |\\n|------------------------------|--------|----------------------------------------|--------|\\n| Hydroxyde de calcium         | E 526  | L-cystéine                             | E 920  |\\n| Hydroxyde de magnésium       | E 528  | Carbamide                              | E 927b |\\n| Tartrate de fer              | E 534  | Argon                                  | E 938  |\\n| Ferrocyanure de sodium       | E 535  | Hélium                                 | E 939  |\\n| Ferrocyanure de potassium    | E 536  | Azote                                  | E 941  |\\n| Acides gras                  | E 570  | Protoxyde d’azote                      | E 942  |\\n| Acide gluconique             | E 574  | Oxygène                                | E 948  |\\n| Glucono-delta-lactone        | E 575  | Hydrogène                              | E 949  |\\n| Gluconate de sodium          | E 576  | Néo-hespéridine DC                     | E 959  |\\n| Gluconate de potassium       | E 577  | Glycosides de stéviol                  | E 960  |\\n| Gluconate de calcium         | E 578  | Lactitol                               | E 966  |\\n| Gluconate ferreux            | E 579  | Invertase                              | E 1103 |\\n| Lactate ferreux              | E 585  | Polydextrose                           | E 1200 |\\n| L-leucine                    | E 641  | Pullulan                               | E 1204 |\\n| Cire d’abeille blanche et jaune | E 901 | Citrate de triéthyle                   | E 1505 |\\n| Cire de candelilla           | E 902  | Triacétate de glycéryle (triacétine)   | E 1518 |\\n| Cire de carnauba             | E 903  | Propanediol-1,2 (propylène glycol)     | E 1520 |\", start_char_idx=2, end_char_idx=6538, text_template='{metadata_str}\\n\\n{content}', metadata_template='{key}: {value}', metadata_seperator='\\n'), score=0.8026974598329306)], metadata={'45c82c0a-5792-494c-9f04-1025a5279347': {'info_density': 53}, '07822fbc-4d10-4d8b-81d7-687035608647': {'info_density': 8}, '8f4d5b57-d288-4eb9-b502-575ed90e7658': {'info_density': 2}, '019b6daf-fff2-4882-a7c3-2df12e659b61': {'info_density': 2}, '0969ff86-eee3-4677-9d5b-477801c537d9': {'info_density': 17}})"
      ]
     },
     "execution_count": 13,
     "metadata": {},
     "output_type": "execute_result"
    }
   ],
   "source": [
    "response = await agent.diff_query_engine.query_engine.aquery(\"Le « Stabilisant : E407 » est-il conforme aux exigences pour les produits de la catégorie Coeur de Gamme ?\")\n",
    "response"
   ]
  },
  {
   "cell_type": "code",
   "execution_count": 14,
   "metadata": {},
   "outputs": [
    {
     "data": {
      "text/plain": [
       "[NodeWithScore(node=TextNode(id_='45c82c0a-5792-494c-9f04-1025a5279347', embedding=None, metadata={'info_density': 53}, excluded_embed_metadata_keys=[], excluded_llm_metadata_keys=[], relationships={<NodeRelationship.SOURCE: '1'>: RelatedNodeInfo(node_id='c9b86108-0958-4b9b-b658-dcc98ccb2943', node_type=<ObjectType.DOCUMENT: '4'>, metadata={}, hash='78f3f962d977fc5955368245fea9524b4257887505299c9f064866cd06c532ff')}, text='Chunk #0 : \\n 1. Exigence recette\\n\\nPour le développement de nos produits, nous souhaitons favoriser une offre saine avec des recettes simples (sans colorant, sans arôme, sans conservateur), avec des ingrédients de qualité, en favorisant des produits locaux et labellisés.\\n\\nLe fournisseur s’engage à respecter la réglementation européenne et nationale ainsi que les codes d’usages professionnels applicables aux produits surgelés vendus à Coup de Pates.\\n\\nPour les produits commercialisés sous une marque appartenant à Coup de Pates, le fournisseur s’engage également à respecter les exigences spécifiques de cette même marque.\\n\\nDans ce cas, nos exigences recettes sont spécifiques à trois niveaux gammes : Entrée de gamme, Cœur de gamme, Haut de gamme.\\n\\nPour les produits développés en réponse à des demandes spécifiques de nos clients, il vous sera également demandé de prendre leurs exigences en considération.\\n\\n| Caractéristiques | Entrée de gamme | Cœur de gamme | Haut de Gamme |\\n|------------------|-----------------|---------------|---------------|\\n| Ingrédients soumis à déclaration OGM | INTERDIT | INTERDIT | INTERDIT |\\n| Traitement par ionisation | INTERDIT | INTERDIT | INTERDIT |\\n| Colorants azoïques (E102, E104, E110, E122, E124, E129) | INTERDIT | INTERDIT | INTERDIT |\\n| Nanoparticules (E170, E171, E172, E174, E152, E341, E551 et E552) | INTERDIT | INTERDIT | INTERDIT |\\n| Glutamates et exhausteurs de goût | INTERDIT | INTERDIT | INTERDIT |\\n| Œufs de poules élevées en cage | INTERDIT | INTERDIT | INTERDIT |\\n| Matières grasses partiellement hydrogénées | INTERDIT | INTERDIT | INTERDIT |\\n| Acides gras trans non naturellement présents | INTERDIT | INTERDIT | INTERDIT |\\n| Édulcorants de synthèse | INTERDIT | INTERDIT | INTERDIT |\\n| Viande Séparée Mécaniquement - VSM | INTERDIT | INTERDIT | INTERDIT |\\n| Cacao non certifié durable | * INTERDIT pour tous les NPD et plan action pour remplacer le cacao non certifié dans l’existant. | INTERDIT | INTERDIT |\\n| Gélatine porcine | INTERDIT | INTERDIT | INTERDIT |\\n| Gélatine animale – (autre que porcine) | À ÉVITER | INTERDIT (tolérance dans les pâtisseries) | INTERDIT (tolérance dans les pâtisseries) |\\n| Huile de palme + palmiste non RSPO | * INTERDIT pour tous les NPD et plan action pour retirer dans l’existant - (tolérée dans supports d’additifs) - En aucun cas, l’huile de palme non RSPO ne pourra être substituée par de l’huile de coprah ou coco. | INTERDIT | INTERDIT |\\n| Huile de palme + palmiste RSPO (certification « Segregated » demandée, à minima « Mass Balance » soumis à dérogation) | À ÉVITER | À ÉVITER | INTERDIT |\\n|                              | A ÉVITER | INTERDIT (tolérance dans les pâtisseries *sauf arômes de fumée et vanilline) | INTERDIT (sauf arômes de fumée) |\\n|------------------------------|----------|----------------------------------------------------------------------------|---------------------------------|\\n| Arômes artificiels           | A ÉVITER | INTERDIT (tolérance dans les pâtisseries *sauf arômes de fumée et vanilline) | INTERDIT (sauf arômes de fumée) |\\n| Colorants artificiels        | A ÉVITER | A ÉVITER Interdit dans les produits salés                                   | INTERDIT                        |\\n| Ingrédients controversés (cf. Annexe IV) | A ÉVITER | A ÉVITER                                                                    | INTERDIT                        |\\n| Additifs rouges (cf. Annexe I) | A ÉVITER | INTERDIT (hors nitrites et polyphosphates)                                  | INTERDIT (hors nitrites dans les produits de salaison) |\\n| Additifs Oranges (cf. Annexe II) | A ÉVITER | A ÉVITER                                                                    | A ÉVITER                        |\\n| Nitrites (E250 à E252)       | A ÉVITER | A ÉVITER                                                                    | INTERDIT (Hors produits de salaison) |\\n| Polyphosphates (E450 à 452 - E339 à 341) | A ÉVITER | A ÉVITER                                                                    | INTERDIT                        |\\n| Viande et volaille origine hors UE | A ÉVITER | A ÉVITER                                                                    | INTERDIT                        |\\n\\nL’ensemble de ces critères est applicable à tous les produits vendus par Coup de Pates. Des dérogations peuvent être accordées au cas par cas, sur justificatifs fournis par le fournisseur et après validation par la direction qualité Coup de Pates.', start_char_idx=2, end_char_idx=4462, text_template='{metadata_str}\\n\\n{content}', metadata_template='{key}: {value}', metadata_seperator='\\n'), score=1.749826956699886),\n",
       " NodeWithScore(node=TextNode(id_='07822fbc-4d10-4d8b-81d7-687035608647', embedding=None, metadata={'info_density': 8}, excluded_embed_metadata_keys=[], excluded_llm_metadata_keys=[], relationships={<NodeRelationship.SOURCE: '1'>: RelatedNodeInfo(node_id='f3ae2c50-a5e0-4523-ae5e-efc8af607535', node_type=<ObjectType.DOCUMENT: '4'>, metadata={}, hash='aa28066ceaf2fd11af479677a1671e4ac22f2a8d0cce390d0b6cfbc847552716')}, text='Chunk #1 : \\n ANNEXE II : Additifs oranges : additifs pour lesquels les rapports scientifiques sont contradictoires\\n\\n| Additif                          | Code  | Additif                                                                 | Code  |\\n|----------------------------------|-------|------------------------------------------------------------------------|-------|\\n| Acide carminique, carmins        | E 120 | Esters lactiques des mono- et diglycérides d’acides gras                | E 472b|\\n| Bleu patenté V                   | E 131 | Esters citriques des mono- et diglycérides d’acides gras                | E 472c|\\n| Caramel de sulfite caustique     | E 150b| Esters tartriques des mono- et diglycérides d’acides gras               | E 472d|\\n| Or                               | E 175 | Esters monoacétyltartriques et diacétyltartriques des mono- et diglycérides d’acides gras | E 472e|\\n| Acide benzoïque                  | E 210 | Esters mixtes acétiques et tartriques des mono- et diglycérides d’acides gras | E 472f|\\n| Benzoate de sodium               | E 211 | Sucroesters d’acides gras                                               | E 473 |\\n| Anhydride sulfureux              | E 220 | Esters polyglycériques d’acides gras                                    | E 475 |\\n| Sulfite de sodium                | E 221 | Esters de propane-1,2-diol d’acides gras                                | E 477 |\\n| Sulfite acide de sodium          | E 222 | Stéaroyl-2-lactylate de sodium                                          | E 481 |\\n| Disulfite de sodium              | E 223 | Stéaroyl-2-lactylate de calcium                                         | E 482 |\\n| Disulfite de potassium           | E 224 | Tartrate de stéaryle                                                    | E 483 |\\n| Sulfite de calcium               | E 226 | Diméthylpolysiloxane                                                    | E 900 |\\n| Sulfite acide de calcium         | E 227 | Advantame                                                               | E 969 |\\n| Sulfite acide de potassium       | E 228 | Extraits de quillaia                                                    | E 999 |\\n| Natamycine                       | E 235 | Lysozyme                                                                | E 1105|\\n| Éthylène-diamine-tétra-acétate de calcium disodium (calcium disodium EDTA) | E 385 | Amidon oxydé                                                            | E 1404|\\n| Alginate de propane-1,2-diol     | E 405 | Phosphate de monoamidon                                                 | E 1410|\\n| Algues Euchema transformées | E 407a | Phosphate de diamidon | E 1412 |\\n|-----------------------------|--------|-----------------------|--------|\\n| Carraghénanes               | E 407  | Phosphate de diamidon phosphaté | E 1413 |\\n| Cellulose                   | E 460  | Phosphate de diamidon acétylé | E 1414 |\\n| Hydroxypropylcellulose      | E 463  | Amidon acétylé | E 1420 |\\n| Hydroxypropylméthylcellulose| E 464  | Adipate de diamidon acétylé | E 1422 |\\n| Carboxyméthyl-cellulose sodique, gomme cellulosique | E 466 | Amidon hydroxypropylé | E 1440 |\\n| Sels de sodium, de potassium, calcium d’acides gras, magnésium d’acides gras | E 470 | Phosphate de diamidon hydroxypropylé | E 1442 |\\n| Mono- et diglycérides d’acides gras | E 471 | Octényle succinate d’amidon sodique | E 1450 |\\n| Esters acétiques des mono- et diglycérides d’acides gras | E 472a | Amidon oxydé acétylé | E 1451 |', start_char_idx=2, end_char_idx=3474, text_template='{metadata_str}\\n\\n{content}', metadata_template='{key}: {value}', metadata_seperator='\\n'), score=1.0767332222552248),\n",
       " NodeWithScore(node=TextNode(id_='8f4d5b57-d288-4eb9-b502-575ed90e7658', embedding=None, metadata={'info_density': 2}, excluded_embed_metadata_keys=[], excluded_llm_metadata_keys=[], relationships={<NodeRelationship.SOURCE: '1'>: RelatedNodeInfo(node_id='91e68d6f-8236-438a-a48a-5b16e43443a9', node_type=<ObjectType.DOCUMENT: '4'>, metadata={}, hash='e198db12be6b47d7ae7ac5140ebab36ea070159aca875a5da6e1461b93a4668b')}, text=\"Chunk #2 : \\n 3. Exigences générales relatives au fournisseur\\n\\nLe fournisseur se doit de disposer de moyens de contrôle et d'enregistrement permettant le respect de la chaîne du froid dans son stockage et son transport de denrées congelées/surgelées.\\n\\nTout envoi d’échantillon devra être accompagné de la « Fiche d’évolution produit » ou d’une fiche technique fournisseur, reprenant à minima les données techniques demandées dans le document précédent (composition, dimensions, DDM ...). Toute autre information jugée nécessaire par le service qualité Coup de Pates devra être communiquée sur demande. Le cahier des charges Coup de Pates devra être rempli dès que le référencement du produit aura été confirmé.\\n\\nIl revient au fournisseur d’appliquer la plus grande diligence dans le transfert exhaustif de ces données. Le dossier établi à l’issue du processus de référencement sera validé à la fois par le fournisseur et un représentant du service qualité Coup de Pates. Toute modification du dossier technique devra être validée en amont par le service qualité Coup de Pates. Si cela est jugé nécessaire, des échantillons (produit actuel / produit modifié) devront être envoyés au service qualité Coup de Pates. Le cahier des charges devra être revu dans son intégralité tous les 5 ans. Même s’il n’y a pas de modification, le cahier des charges sera de nouveau signé avec la nouvelle date.\", start_char_idx=2, end_char_idx=1379, text_template='{metadata_str}\\n\\n{content}', metadata_template='{key}: {value}', metadata_seperator='\\n'), score=0.4644455646249558),\n",
       " NodeWithScore(node=TextNode(id_='019b6daf-fff2-4882-a7c3-2df12e659b61', embedding=None, metadata={'info_density': 2}, excluded_embed_metadata_keys=[], excluded_llm_metadata_keys=[], relationships={<NodeRelationship.SOURCE: '1'>: RelatedNodeInfo(node_id='784d4551-2e2f-4b93-be75-e7b3f729737f', node_type=<ObjectType.DOCUMENT: '4'>, metadata={}, hash='6ffd5ae38016941d36f53d77ee5e7b15b5943d17cf174af10caedf7bd71cd248')}, text='Chunk #3 : \\n 7. Non conformités\\n\\nEn cas de non-conformité produit, sanitaire ou réglementaire, le fournisseur s’engage à alerter immédiatement Coup de Pates et à communiquer les éléments de traçabilité nécessaires.\\n\\nEn cas de non-conformité détectée par le service qualité Coup de Pates ou un de ses clients, une notification est envoyée au fournisseur. Celui-ci s’engage à communiquer son analyse et son plan d’action dans les délais demandés.', start_char_idx=2, end_char_idx=433, text_template='{metadata_str}\\n\\n{content}', metadata_template='{key}: {value}', metadata_seperator='\\n'), score=0.42938336462495585),\n",
       " NodeWithScore(node=TextNode(id_='0969ff86-eee3-4677-9d5b-477801c537d9', embedding=None, metadata={'info_density': 17}, excluded_embed_metadata_keys=[], excluded_llm_metadata_keys=[], relationships={<NodeRelationship.SOURCE: '1'>: RelatedNodeInfo(node_id='4268a29f-8efe-491c-bf7f-3664b344d288', node_type=<ObjectType.DOCUMENT: '4'>, metadata={}, hash='82360f19ebabca83c8c4b72dc7c8b96bed816f061ce942c2cd1ea971a6b933b4')}, text=\"Chunk #4 : \\n ANNEXE III : Additifs verts : additifs identifiés à ce jour comme non dangereux pour la santé.\\n\\n| Additif                                      | Code  | Additif                                      | Code  |\\n|----------------------------------------------|-------|----------------------------------------------|-------|\\n| Curcumine                                   | E 100 | Tartrates de potassium                       | E 336 |\\n| Riboflavines                                | E 101 | Malate de potassium                          | E 351 |\\n| Chlorophylles et chlorophyllines            | E 140 | Acide métatartarique                         | E 353 |\\n| Complexes cuivre-chlorophylles et cuivre-chlorophyllines | E 141 | Tartrate de calcium                          | E 354 |\\n| Caramel ordinaire                           | E 150a| Extraits de romarin                          | E 392 |\\n| Charbon végétal médicinal                   | E 153 | Acide alginique                              | E 400 |\\n| Caroténoïdes                                | E 160a| Alginate de sodium                           | E 401 |\\n| Bixine de rocou / Norbixine de rocou        | E 160b| Alginate de calcium                          | E 404 |\\n| Extrait de paprika, capsanthine, capsorubine| E 160c| Agar-agar                                    | E 406 |\\n| Lycopène                                    | E 160d| Farine de graines de caroube                 | E 410 |\\n| β- apocaroténal-8' (C 30)                   | E 160e| Gomme guar                                   | E 412 |\\n| Lutéine                                     | E 161b| Gomme adragante                              | E 413 |\\n| Rouge de betterave, bétanine                | E 162 | Gomme arabique ou gomme d’acacia             | E 414 |\\n| Anthocyanes                                 | E 163 | Gomme xanthane                               | E 415 |\\n| Acide sorbique                              | E 200 | Gomme Karaya                                 | E 416 |\\n| Sorbate de potassium                        | E 202 | Gomme Tara                                   | E 417 |\\n| Acide acétique                              | E 260 | Gomme Gellane                                | E 418 |\\n| Acétates de potassium                       | E 261 | Sorbitols                                    | E 420 |\\n| Acétates de sodium                          | E 262 | Glycérol                                     | E 422 |\\n| Acétate de calcium                          | E 263 | Gomme cassia                                 | E 427 |\\n| Acide lactique                              | E 270 | Pectines                                     | E 440 |\\n| Propionate de calcium                       | E 282 | Méthylcellulose                              | E 461 |\\n| Dioxyde de carbone                          | E 290 | Sels de sodium, de potassium et de calcium d’acides gras | E 470a |\\n| Acide malique                               | E 296 | Sels de magnésium d’acides gras              | E 470b |\\n| Acide ascorbique                            | E 300 | Polyglycérols de polyglycérol                | E 476 |\\n| Ascorbate de sodium                         | E 301 | Phytostérols riches en stigmastérol          | E 499 |\\n| Ascorbate de calcium                        | E 302 | Carbonates de sodium                         | E 500 |\\n| Esters d’acides gras de l’acide ascorbique  | E 304 | Carbonates de potassium                      | E 501 |\\n| Extrait riche en tocophérols                | E 306 | Carbonates d’ammonium                        | E 503 |\\n| Alpha-tocophérol                            | E 307 | Carbonates de magnésium                      | E 504 |\\n| Érythorbate de sodium                       | E 316 | Acide chlorhydrique                          | E 507 |\\n| Lécithines                                  | E 322 | Chlorure de potassium                        | E 508 |\\n| Lactate de sodium                           | E 325 | Chlorure de calcium                          | E 509 |\\n| Lactate de potassium                        | E 326 | Chlorure de magnésium                        | E 511 |\\n| Lactate de calcium                          | E 327 | Acide sulfurique                             | E 513 |\\n| Acide citrique                              | E 330 | Sulfates de sodium                           | E 514 |\\n| Citrates de sodium                          | E 331 | Sulfates de potassium                        | E 515 |\\n| Citrates de potassium                       | E 332 | Sulfate de calcium                           | E 516 |\\n| Citrates de calcium                         | E 333 | Sulfate d’ammonium                           | E 517 |\\n| Acide tartrique [L (+)]                     | E 334 | Hydroxyde de sodium                          | E 524 |\\n| Hydroxyde de potassium       | E 525  | Shellac                                | E 904  |\\n|------------------------------|--------|----------------------------------------|--------|\\n| Hydroxyde de calcium         | E 526  | L-cystéine                             | E 920  |\\n| Hydroxyde de magnésium       | E 528  | Carbamide                              | E 927b |\\n| Tartrate de fer              | E 534  | Argon                                  | E 938  |\\n| Ferrocyanure de sodium       | E 535  | Hélium                                 | E 939  |\\n| Ferrocyanure de potassium    | E 536  | Azote                                  | E 941  |\\n| Acides gras                  | E 570  | Protoxyde d’azote                      | E 942  |\\n| Acide gluconique             | E 574  | Oxygène                                | E 948  |\\n| Glucono-delta-lactone        | E 575  | Hydrogène                              | E 949  |\\n| Gluconate de sodium          | E 576  | Néo-hespéridine DC                     | E 959  |\\n| Gluconate de potassium       | E 577  | Glycosides de stéviol                  | E 960  |\\n| Gluconate de calcium         | E 578  | Lactitol                               | E 966  |\\n| Gluconate ferreux            | E 579  | Invertase                              | E 1103 |\\n| Lactate ferreux              | E 585  | Polydextrose                           | E 1200 |\\n| L-leucine                    | E 641  | Pullulan                               | E 1204 |\\n| Cire d’abeille blanche et jaune | E 901 | Citrate de triéthyle                   | E 1505 |\\n| Cire de candelilla           | E 902  | Triacétate de glycéryle (triacétine)   | E 1518 |\\n| Cire de carnauba             | E 903  | Propanediol-1,2 (propylène glycol)     | E 1520 |\", start_char_idx=2, end_char_idx=6538, text_template='{metadata_str}\\n\\n{content}', metadata_template='{key}: {value}', metadata_seperator='\\n'), score=0.8026974598329306)]"
      ]
     },
     "execution_count": 14,
     "metadata": {},
     "output_type": "execute_result"
    }
   ],
   "source": [
    "response.source_nodes"
   ]
  },
  {
   "cell_type": "code",
   "execution_count": 23,
   "metadata": {},
   "outputs": [
    {
     "data": {
      "text/plain": [
       "1.0767332222552248"
      ]
     },
     "execution_count": 23,
     "metadata": {},
     "output_type": "execute_result"
    }
   ],
   "source": [
    "response.source_nodes[1].score"
   ]
  },
  {
   "cell_type": "code",
   "execution_count": 20,
   "metadata": {},
   "outputs": [
    {
     "data": {
      "text/plain": [
       "PydanticResponse(response=Ingredient(name='Gélifiant : E407 (carraghénanes, dextrose)', detailed_answer=\"Le gélifiant E407, également connu sous le nom de carraghénanes, est classé parmi les additifs oranges, ce qui signifie que les rapports scientifiques à son sujet sont contradictoires. Par conséquent, il est recommandé de l'éviter dans les produits de la marque Coup de Pates, bien qu'il ne soit pas strictement interdit.\", decision=<DecisionEnum.to_avoid: 'To Avoid'>, used_chunks=[3], more_info='Look into chunk id 3 to verify the classification of E407 as an orange additive.'), source_nodes=[NodeWithScore(node=TextNode(id_='c513f3e0-6ce3-434c-973f-b10496f7f813', embedding=None, metadata={'info_density': 85}, excluded_embed_metadata_keys=[], excluded_llm_metadata_keys=[], relationships={<NodeRelationship.SOURCE: '1'>: RelatedNodeInfo(node_id='0c8dc3c8-b4ff-4555-85d2-200b2970fd2b', node_type=<ObjectType.DOCUMENT: '4'>, metadata={}, hash='c14b16dbf1d39d40a2dfda2292f356f68ec8d6228d384b482bfa8ae0b9f7ce88')}, text='Chunk #0 : \\n ANNEXE IV : Ingrédients controversés : ingrédients faisant l’objet de rapports scientifiques controversés et/ou perçus négativement par le consommateur.\\n\\n| Ingrédient                | Motif                                                                 |\\n|---------------------------|----------------------------------------------------------------------|\\n| Sirop de glucose-fructose | Niveau de transformation élevé + manque de transparence sur le niveau de sucre présent dans le produit |\\n| Maltodextrine             | Ingrédient sans intérêt nutritionnel et organoleptique               |\\n| Huile de coco/coprah      | Contient 80% d’acides gras saturés dont l’excès augmente le risque de maladies cardiovasculaires |\\n| Sirop de maïs             | Niveau de transformation élevé + manque de transparence sur le niveau de sucre présent dans le produit |', start_char_idx=2, end_char_idx=858, text_template='{metadata_str}\\n\\n{content}', metadata_template='{key}: {value}', metadata_seperator='\\n'), score=1.8429879196747432), NodeWithScore(node=TextNode(id_='7533f351-c4cc-442f-8669-e64f4190f78a', embedding=None, metadata={'info_density': 19}, excluded_embed_metadata_keys=[], excluded_llm_metadata_keys=[], relationships={<NodeRelationship.SOURCE: '1'>: RelatedNodeInfo(node_id='aa7250dc-458c-401d-9475-3c21b3d318f1', node_type=<ObjectType.DOCUMENT: '4'>, metadata={}, hash='8db80668326e495a022a918677a5a418c2033e09d8ea578e1f73cc2300659d8c')}, text='Chunk #1 : \\n Table des matières\\n\\n1. Exigence recette ........................................................................................................ 2\\n2. Produits soumis à certification ou allégations ........ 3\\n   2.1. Produits « sans gluten » ............................................................................. 3\\n   2.2. Produits issus de l’agriculture biologique .................. 3\\n3. Exigences générales relatives au fournisseur ............ 4\\n4. Exigences relatives aux sites de production ................. 4\\n5. Traçabilité ......................................................................................................................... 4\\n6. Suivi analytique ....................................................................................................... 5\\n   6.1. Suivi microbiologique ............................................................................... 5\\n   6.2. Suivi nutritionnel ............................................................................................. 5\\n   6.3. Suivi organoleptique .................................................................................. 5\\n7. Non conformités ..................................................................................................... 5\\n8. Gestion de crise Coup de Pates ....................................................... 6\\n\\n**ANNEXE I**: Additifs rouges : additifs pour lesquels les rapports scientifiques rapportent une potentielle cancérogénicité ou une implication dans les pathologies lourdes ........................................................ 7  \\n**ANNEXE II**: Additifs oranges : additifs pour lesquels les rapports scientifiques sont contradictoires .... 10  \\n**ANNEXE III**: Additifs verts : additifs identifiés à ce jour comme non dangereux pour la santé ............... 11  \\n**ANNEXE IV**: Ingrédients controversés .................................................................................................... 12', start_char_idx=2, end_char_idx=1965, text_template='{metadata_str}\\n\\n{content}', metadata_template='{key}: {value}', metadata_seperator='\\n'), score=1.5483913319004676), NodeWithScore(node=TextNode(id_='45c82c0a-5792-494c-9f04-1025a5279347', embedding=None, metadata={'info_density': 171}, excluded_embed_metadata_keys=[], excluded_llm_metadata_keys=[], relationships={<NodeRelationship.SOURCE: '1'>: RelatedNodeInfo(node_id='c9b86108-0958-4b9b-b658-dcc98ccb2943', node_type=<ObjectType.DOCUMENT: '4'>, metadata={}, hash='78f3f962d977fc5955368245fea9524b4257887505299c9f064866cd06c532ff')}, text='Chunk #2 : \\n 1. Exigence recette\\n\\nPour le développement de nos produits, nous souhaitons favoriser une offre saine avec des recettes simples (sans colorant, sans arôme, sans conservateur), avec des ingrédients de qualité, en favorisant des produits locaux et labellisés.\\n\\nLe fournisseur s’engage à respecter la réglementation européenne et nationale ainsi que les codes d’usages professionnels applicables aux produits surgelés vendus à Coup de Pates.\\n\\nPour les produits commercialisés sous une marque appartenant à Coup de Pates, le fournisseur s’engage également à respecter les exigences spécifiques de cette même marque.\\n\\nDans ce cas, nos exigences recettes sont spécifiques à trois niveaux gammes : Entrée de gamme, Cœur de gamme, Haut de gamme.\\n\\nPour les produits développés en réponse à des demandes spécifiques de nos clients, il vous sera également demandé de prendre leurs exigences en considération.\\n\\n| Caractéristiques | Entrée de gamme | Cœur de gamme | Haut de Gamme |\\n|------------------|-----------------|---------------|---------------|\\n| Ingrédients soumis à déclaration OGM | INTERDIT | INTERDIT | INTERDIT |\\n| Traitement par ionisation | INTERDIT | INTERDIT | INTERDIT |\\n| Colorants azoïques (E102, E104, E110, E122, E124, E129) | INTERDIT | INTERDIT | INTERDIT |\\n| Nanoparticules (E170, E171, E172, E174, E152, E341, E551 et E552) | INTERDIT | INTERDIT | INTERDIT |\\n| Glutamates et exhausteurs de goût | INTERDIT | INTERDIT | INTERDIT |\\n| Œufs de poules élevées en cage | INTERDIT | INTERDIT | INTERDIT |\\n| Matières grasses partiellement hydrogénées | INTERDIT | INTERDIT | INTERDIT |\\n| Acides gras trans non naturellement présents | INTERDIT | INTERDIT | INTERDIT |\\n| Édulcorants de synthèse | INTERDIT | INTERDIT | INTERDIT |\\n| Viande Séparée Mécaniquement - VSM | INTERDIT | INTERDIT | INTERDIT |\\n| Cacao non certifié durable | * INTERDIT pour tous les NPD et plan action pour remplacer le cacao non certifié dans l’existant. | INTERDIT | INTERDIT |\\n| Gélatine porcine | INTERDIT | INTERDIT | INTERDIT |\\n| Gélatine animale – (autre que porcine) | À ÉVITER | INTERDIT (tolérance dans les pâtisseries) | INTERDIT (tolérance dans les pâtisseries) |\\n| Huile de palme + palmiste non RSPO | * INTERDIT pour tous les NPD et plan action pour retirer dans l’existant - (tolérée dans supports d’additifs) - En aucun cas, l’huile de palme non RSPO ne pourra être substituée par de l’huile de coprah ou coco. | INTERDIT | INTERDIT |\\n| Huile de palme + palmiste RSPO (certification « Segregated » demandée, à minima « Mass Balance » soumis à dérogation) | À ÉVITER | À ÉVITER | INTERDIT |\\n|                              | A ÉVITER | INTERDIT (tolérance dans les pâtisseries *sauf arômes de fumée et vanilline) | INTERDIT (sauf arômes de fumée) |\\n|------------------------------|----------|----------------------------------------------------------------------------|---------------------------------|\\n| Arômes artificiels           | A ÉVITER | INTERDIT (tolérance dans les pâtisseries *sauf arômes de fumée et vanilline) | INTERDIT (sauf arômes de fumée) |\\n| Colorants artificiels        | A ÉVITER | A ÉVITER Interdit dans les produits salés                                   | INTERDIT                        |\\n| Ingrédients controversés (cf. Annexe IV) | A ÉVITER | A ÉVITER                                                                    | INTERDIT                        |\\n| Additifs rouges (cf. Annexe I) | A ÉVITER | INTERDIT (hors nitrites et polyphosphates)                                  | INTERDIT (hors nitrites dans les produits de salaison) |\\n| Additifs Oranges (cf. Annexe II) | A ÉVITER | A ÉVITER                                                                    | A ÉVITER                        |\\n| Nitrites (E250 à E252)       | A ÉVITER | A ÉVITER                                                                    | INTERDIT (Hors produits de salaison) |\\n| Polyphosphates (E450 à 452 - E339 à 341) | A ÉVITER | A ÉVITER                                                                    | INTERDIT                        |\\n| Viande et volaille origine hors UE | A ÉVITER | A ÉVITER                                                                    | INTERDIT                        |\\n\\nL’ensemble de ces critères est applicable à tous les produits vendus par Coup de Pates. Des dérogations peuvent être accordées au cas par cas, sur justificatifs fournis par le fournisseur et après validation par la direction qualité Coup de Pates.', start_char_idx=2, end_char_idx=4462, text_template='{metadata_str}\\n\\n{content}', metadata_template='{key}: {value}', metadata_seperator='\\n'), score=1.8048670918116023), NodeWithScore(node=TextNode(id_='07822fbc-4d10-4d8b-81d7-687035608647', embedding=None, metadata={'info_density': 24}, excluded_embed_metadata_keys=[], excluded_llm_metadata_keys=[], relationships={<NodeRelationship.SOURCE: '1'>: RelatedNodeInfo(node_id='f3ae2c50-a5e0-4523-ae5e-efc8af607535', node_type=<ObjectType.DOCUMENT: '4'>, metadata={}, hash='aa28066ceaf2fd11af479677a1671e4ac22f2a8d0cce390d0b6cfbc847552716')}, text='Chunk #3 : \\n ANNEXE II : Additifs oranges : additifs pour lesquels les rapports scientifiques sont contradictoires\\n\\n| Additif                          | Code  | Additif                                                                 | Code  |\\n|----------------------------------|-------|------------------------------------------------------------------------|-------|\\n| Acide carminique, carmins        | E 120 | Esters lactiques des mono- et diglycérides d’acides gras                | E 472b|\\n| Bleu patenté V                   | E 131 | Esters citriques des mono- et diglycérides d’acides gras                | E 472c|\\n| Caramel de sulfite caustique     | E 150b| Esters tartriques des mono- et diglycérides d’acides gras               | E 472d|\\n| Or                               | E 175 | Esters monoacétyltartriques et diacétyltartriques des mono- et diglycérides d’acides gras | E 472e|\\n| Acide benzoïque                  | E 210 | Esters mixtes acétiques et tartriques des mono- et diglycérides d’acides gras | E 472f|\\n| Benzoate de sodium               | E 211 | Sucroesters d’acides gras                                               | E 473 |\\n| Anhydride sulfureux              | E 220 | Esters polyglycériques d’acides gras                                    | E 475 |\\n| Sulfite de sodium                | E 221 | Esters de propane-1,2-diol d’acides gras                                | E 477 |\\n| Sulfite acide de sodium          | E 222 | Stéaroyl-2-lactylate de sodium                                          | E 481 |\\n| Disulfite de sodium              | E 223 | Stéaroyl-2-lactylate de calcium                                         | E 482 |\\n| Disulfite de potassium           | E 224 | Tartrate de stéaryle                                                    | E 483 |\\n| Sulfite de calcium               | E 226 | Diméthylpolysiloxane                                                    | E 900 |\\n| Sulfite acide de calcium         | E 227 | Advantame                                                               | E 969 |\\n| Sulfite acide de potassium       | E 228 | Extraits de quillaia                                                    | E 999 |\\n| Natamycine                       | E 235 | Lysozyme                                                                | E 1105|\\n| Éthylène-diamine-tétra-acétate de calcium disodium (calcium disodium EDTA) | E 385 | Amidon oxydé                                                            | E 1404|\\n| Alginate de propane-1,2-diol     | E 405 | Phosphate de monoamidon                                                 | E 1410|\\n| Algues Euchema transformées | E 407a | Phosphate de diamidon | E 1412 |\\n|-----------------------------|--------|-----------------------|--------|\\n| Carraghénanes               | E 407  | Phosphate de diamidon phosphaté | E 1413 |\\n| Cellulose                   | E 460  | Phosphate de diamidon acétylé | E 1414 |\\n| Hydroxypropylcellulose      | E 463  | Amidon acétylé | E 1420 |\\n| Hydroxypropylméthylcellulose| E 464  | Adipate de diamidon acétylé | E 1422 |\\n| Carboxyméthyl-cellulose sodique, gomme cellulosique | E 466 | Amidon hydroxypropylé | E 1440 |\\n| Sels de sodium, de potassium, calcium d’acides gras, magnésium d’acides gras | E 470 | Phosphate de diamidon hydroxypropylé | E 1442 |\\n| Mono- et diglycérides d’acides gras | E 471 | Octényle succinate d’amidon sodique | E 1450 |\\n| Esters acétiques des mono- et diglycérides d’acides gras | E 472a | Amidon oxydé acétylé | E 1451 |', start_char_idx=2, end_char_idx=3474, text_template='{metadata_str}\\n\\n{content}', metadata_template='{key}: {value}', metadata_seperator='\\n'), score=1.6384292149636432), NodeWithScore(node=TextNode(id_='0969ff86-eee3-4677-9d5b-477801c537d9', embedding=None, metadata={'info_density': 47}, excluded_embed_metadata_keys=[], excluded_llm_metadata_keys=[], relationships={<NodeRelationship.SOURCE: '1'>: RelatedNodeInfo(node_id='4268a29f-8efe-491c-bf7f-3664b344d288', node_type=<ObjectType.DOCUMENT: '4'>, metadata={}, hash='82360f19ebabca83c8c4b72dc7c8b96bed816f061ce942c2cd1ea971a6b933b4')}, text=\"Chunk #4 : \\n ANNEXE III : Additifs verts : additifs identifiés à ce jour comme non dangereux pour la santé.\\n\\n| Additif                                      | Code  | Additif                                      | Code  |\\n|----------------------------------------------|-------|----------------------------------------------|-------|\\n| Curcumine                                   | E 100 | Tartrates de potassium                       | E 336 |\\n| Riboflavines                                | E 101 | Malate de potassium                          | E 351 |\\n| Chlorophylles et chlorophyllines            | E 140 | Acide métatartarique                         | E 353 |\\n| Complexes cuivre-chlorophylles et cuivre-chlorophyllines | E 141 | Tartrate de calcium                          | E 354 |\\n| Caramel ordinaire                           | E 150a| Extraits de romarin                          | E 392 |\\n| Charbon végétal médicinal                   | E 153 | Acide alginique                              | E 400 |\\n| Caroténoïdes                                | E 160a| Alginate de sodium                           | E 401 |\\n| Bixine de rocou / Norbixine de rocou        | E 160b| Alginate de calcium                          | E 404 |\\n| Extrait de paprika, capsanthine, capsorubine| E 160c| Agar-agar                                    | E 406 |\\n| Lycopène                                    | E 160d| Farine de graines de caroube                 | E 410 |\\n| β- apocaroténal-8' (C 30)                   | E 160e| Gomme guar                                   | E 412 |\\n| Lutéine                                     | E 161b| Gomme adragante                              | E 413 |\\n| Rouge de betterave, bétanine                | E 162 | Gomme arabique ou gomme d’acacia             | E 414 |\\n| Anthocyanes                                 | E 163 | Gomme xanthane                               | E 415 |\\n| Acide sorbique                              | E 200 | Gomme Karaya                                 | E 416 |\\n| Sorbate de potassium                        | E 202 | Gomme Tara                                   | E 417 |\\n| Acide acétique                              | E 260 | Gomme Gellane                                | E 418 |\\n| Acétates de potassium                       | E 261 | Sorbitols                                    | E 420 |\\n| Acétates de sodium                          | E 262 | Glycérol                                     | E 422 |\\n| Acétate de calcium                          | E 263 | Gomme cassia                                 | E 427 |\\n| Acide lactique                              | E 270 | Pectines                                     | E 440 |\\n| Propionate de calcium                       | E 282 | Méthylcellulose                              | E 461 |\\n| Dioxyde de carbone                          | E 290 | Sels de sodium, de potassium et de calcium d’acides gras | E 470a |\\n| Acide malique                               | E 296 | Sels de magnésium d’acides gras              | E 470b |\\n| Acide ascorbique                            | E 300 | Polyglycérols de polyglycérol                | E 476 |\\n| Ascorbate de sodium                         | E 301 | Phytostérols riches en stigmastérol          | E 499 |\\n| Ascorbate de calcium                        | E 302 | Carbonates de sodium                         | E 500 |\\n| Esters d’acides gras de l’acide ascorbique  | E 304 | Carbonates de potassium                      | E 501 |\\n| Extrait riche en tocophérols                | E 306 | Carbonates d’ammonium                        | E 503 |\\n| Alpha-tocophérol                            | E 307 | Carbonates de magnésium                      | E 504 |\\n| Érythorbate de sodium                       | E 316 | Acide chlorhydrique                          | E 507 |\\n| Lécithines                                  | E 322 | Chlorure de potassium                        | E 508 |\\n| Lactate de sodium                           | E 325 | Chlorure de calcium                          | E 509 |\\n| Lactate de potassium                        | E 326 | Chlorure de magnésium                        | E 511 |\\n| Lactate de calcium                          | E 327 | Acide sulfurique                             | E 513 |\\n| Acide citrique                              | E 330 | Sulfates de sodium                           | E 514 |\\n| Citrates de sodium                          | E 331 | Sulfates de potassium                        | E 515 |\\n| Citrates de potassium                       | E 332 | Sulfate de calcium                           | E 516 |\\n| Citrates de calcium                         | E 333 | Sulfate d’ammonium                           | E 517 |\\n| Acide tartrique [L (+)]                     | E 334 | Hydroxyde de sodium                          | E 524 |\\n| Hydroxyde de potassium       | E 525  | Shellac                                | E 904  |\\n|------------------------------|--------|----------------------------------------|--------|\\n| Hydroxyde de calcium         | E 526  | L-cystéine                             | E 920  |\\n| Hydroxyde de magnésium       | E 528  | Carbamide                              | E 927b |\\n| Tartrate de fer              | E 534  | Argon                                  | E 938  |\\n| Ferrocyanure de sodium       | E 535  | Hélium                                 | E 939  |\\n| Ferrocyanure de potassium    | E 536  | Azote                                  | E 941  |\\n| Acides gras                  | E 570  | Protoxyde d’azote                      | E 942  |\\n| Acide gluconique             | E 574  | Oxygène                                | E 948  |\\n| Glucono-delta-lactone        | E 575  | Hydrogène                              | E 949  |\\n| Gluconate de sodium          | E 576  | Néo-hespéridine DC                     | E 959  |\\n| Gluconate de potassium       | E 577  | Glycosides de stéviol                  | E 960  |\\n| Gluconate de calcium         | E 578  | Lactitol                               | E 966  |\\n| Gluconate ferreux            | E 579  | Invertase                              | E 1103 |\\n| Lactate ferreux              | E 585  | Polydextrose                           | E 1200 |\\n| L-leucine                    | E 641  | Pullulan                               | E 1204 |\\n| Cire d’abeille blanche et jaune | E 901 | Citrate de triéthyle                   | E 1505 |\\n| Cire de candelilla           | E 902  | Triacétate de glycéryle (triacétine)   | E 1518 |\\n| Cire de carnauba             | E 903  | Propanediol-1,2 (propylène glycol)     | E 1520 |\", start_char_idx=2, end_char_idx=6538, text_template='{metadata_str}\\n\\n{content}', metadata_template='{key}: {value}', metadata_seperator='\\n'), score=1.7829996021693955)], metadata={'c513f3e0-6ce3-434c-973f-b10496f7f813': {'info_density': 85}, '7533f351-c4cc-442f-8669-e64f4190f78a': {'info_density': 19}, '45c82c0a-5792-494c-9f04-1025a5279347': {'info_density': 171}, '07822fbc-4d10-4d8b-81d7-687035608647': {'info_density': 24}, '0969ff86-eee3-4677-9d5b-477801c537d9': {'info_density': 47}})"
      ]
     },
     "execution_count": 20,
     "metadata": {},
     "output_type": "execute_result"
    }
   ],
   "source": [
    "#response =  diff_query_engine.query_engine.query(\"Le « Gélifiant : E407 (carraghénanes, dextrose) » est-il conforme aux exigences ?\")\n",
    "response = await agent.diff_query_engine.query_engine.aquery(\"Le « Gélifiant : E407 (carraghénanes, dextrose) » est-il conforme aux exigences ?\")\n",
    "response"
   ]
  },
  {
   "cell_type": "code",
   "execution_count": 11,
   "metadata": {},
   "outputs": [
    {
     "data": {
      "text/plain": [
       "[TextNode(id_='bc8d0242-a784-40f4-9f0e-dcd6b981fe06', embedding=None, metadata={'info_density': 1}, excluded_embed_metadata_keys=[], excluded_llm_metadata_keys=[], relationships={<NodeRelationship.SOURCE: '1'>: RelatedNodeInfo(node_id='299d0585-982d-41be-a63e-80b4bdc918f1', node_type=<ObjectType.DOCUMENT: '4'>, metadata={}, hash='09953039bdb6095b9f45b6bd1cdf14af1c71fcfb86c7482ebc7dad43c35838fd')}, text=\"CHARTE PRODUITS COUP DE PATES\\n\\n**Codification**: CDP_QUA_CHART_01  \\n**Version**: 5  \\n**Date d'application**: 13/12/2023\\n\\n| Date       | Mises à jour                                                                 |\\n|------------|------------------------------------------------------------------------------|\\n| 19/12/2014 | Création                                                                     |\\n| 12/12/2019 | Insertion des additifs interdits et à éviter                                 |\\n| 13/05/2022 | Revue des exigences recettes et annexes                                      |\\n| 30/03/2023 | Revue des annexes I et II. Fréquence de mise à jour CDC                      |\\n| 13/12/2023 | Ajout d'une exigence de certification sur le cacao                           |\\n|            | Revue des exigences de certification de l’huile de palme                     |\", start_char_idx=2, end_char_idx=874, text_template='{metadata_str}\\n\\n{content}', metadata_template='{key}: {value}', metadata_seperator='\\n'),\n",
       " TextNode(id_='7533f351-c4cc-442f-8669-e64f4190f78a', embedding=None, metadata={'info_density': 0}, excluded_embed_metadata_keys=[], excluded_llm_metadata_keys=[], relationships={<NodeRelationship.SOURCE: '1'>: RelatedNodeInfo(node_id='aa7250dc-458c-401d-9475-3c21b3d318f1', node_type=<ObjectType.DOCUMENT: '4'>, metadata={}, hash='8db80668326e495a022a918677a5a418c2033e09d8ea578e1f73cc2300659d8c')}, text='Table des matières\\n\\n1. Exigence recette ........................................................................................................ 2\\n2. Produits soumis à certification ou allégations ........ 3\\n   2.1. Produits « sans gluten » ............................................................................. 3\\n   2.2. Produits issus de l’agriculture biologique .................. 3\\n3. Exigences générales relatives au fournisseur ............ 4\\n4. Exigences relatives aux sites de production ................. 4\\n5. Traçabilité ......................................................................................................................... 4\\n6. Suivi analytique ....................................................................................................... 5\\n   6.1. Suivi microbiologique ............................................................................... 5\\n   6.2. Suivi nutritionnel ............................................................................................. 5\\n   6.3. Suivi organoleptique .................................................................................. 5\\n7. Non conformités ..................................................................................................... 5\\n8. Gestion de crise Coup de Pates ....................................................... 6\\n\\n**ANNEXE I**: Additifs rouges : additifs pour lesquels les rapports scientifiques rapportent une potentielle cancérogénicité ou une implication dans les pathologies lourdes ........................................................ 7  \\n**ANNEXE II**: Additifs oranges : additifs pour lesquels les rapports scientifiques sont contradictoires .... 10  \\n**ANNEXE III**: Additifs verts : additifs identifiés à ce jour comme non dangereux pour la santé ............... 11  \\n**ANNEXE IV**: Ingrédients controversés .................................................................................................... 12', start_char_idx=2, end_char_idx=1965, text_template='{metadata_str}\\n\\n{content}', metadata_template='{key}: {value}', metadata_seperator='\\n'),\n",
       " TextNode(id_='a28771fe-6e25-4bbc-a834-96dd0942a65c', embedding=None, metadata={'info_density': 0}, excluded_embed_metadata_keys=[], excluded_llm_metadata_keys=[], relationships={<NodeRelationship.SOURCE: '1'>: RelatedNodeInfo(node_id='6d357723-7c3d-4865-8322-21cf45abb50f', node_type=<ObjectType.DOCUMENT: '4'>, metadata={}, hash='dedccd5504a8f1199e203a252ca0be1d2da3faaeb38a0b59983e9cf79447e926')}, text=\"Liste des abréviations\\n\\n| AFDIAG | Association Française Des Intolérants Au Gluten |\\n| AOECS  | Association of European Coeliac Societies       |\\n| COFRAC | Comité français d'accréditation                 |\\n| DGHM   | Deutschen Gesellschaft für Hygiene und Mikrobiologie |\\n| FCD    | Fédération du Commerce et de la Distribution    |\\n| GFSI   | Global Food Safety Initiative                   |\\n| ILAC   | International Laboratory Accreditation Cooperation |\\n| NPD    | New Product Development                         |\\n\\n---\", start_char_idx=2, end_char_idx=526, text_template='{metadata_str}\\n\\n{content}', metadata_template='{key}: {value}', metadata_seperator='\\n'),\n",
       " TextNode(id_='45c82c0a-5792-494c-9f04-1025a5279347', embedding=None, metadata={'info_density': 19}, excluded_embed_metadata_keys=[], excluded_llm_metadata_keys=[], relationships={<NodeRelationship.SOURCE: '1'>: RelatedNodeInfo(node_id='c9b86108-0958-4b9b-b658-dcc98ccb2943', node_type=<ObjectType.DOCUMENT: '4'>, metadata={}, hash='78f3f962d977fc5955368245fea9524b4257887505299c9f064866cd06c532ff')}, text='1. Exigence recette\\n\\nPour le développement de nos produits, nous souhaitons favoriser une offre saine avec des recettes simples (sans colorant, sans arôme, sans conservateur), avec des ingrédients de qualité, en favorisant des produits locaux et labellisés.\\n\\nLe fournisseur s’engage à respecter la réglementation européenne et nationale ainsi que les codes d’usages professionnels applicables aux produits surgelés vendus à Coup de Pates.\\n\\nPour les produits commercialisés sous une marque appartenant à Coup de Pates, le fournisseur s’engage également à respecter les exigences spécifiques de cette même marque.\\n\\nDans ce cas, nos exigences recettes sont spécifiques à trois niveaux gammes : Entrée de gamme, Cœur de gamme, Haut de gamme.\\n\\nPour les produits développés en réponse à des demandes spécifiques de nos clients, il vous sera également demandé de prendre leurs exigences en considération.\\n\\n| Caractéristiques | Entrée de gamme | Cœur de gamme | Haut de Gamme |\\n|------------------|-----------------|---------------|---------------|\\n| Ingrédients soumis à déclaration OGM | INTERDIT | INTERDIT | INTERDIT |\\n| Traitement par ionisation | INTERDIT | INTERDIT | INTERDIT |\\n| Colorants azoïques (E102, E104, E110, E122, E124, E129) | INTERDIT | INTERDIT | INTERDIT |\\n| Nanoparticules (E170, E171, E172, E174, E152, E341, E551 et E552) | INTERDIT | INTERDIT | INTERDIT |\\n| Glutamates et exhausteurs de goût | INTERDIT | INTERDIT | INTERDIT |\\n| Œufs de poules élevées en cage | INTERDIT | INTERDIT | INTERDIT |\\n| Matières grasses partiellement hydrogénées | INTERDIT | INTERDIT | INTERDIT |\\n| Acides gras trans non naturellement présents | INTERDIT | INTERDIT | INTERDIT |\\n| Édulcorants de synthèse | INTERDIT | INTERDIT | INTERDIT |\\n| Viande Séparée Mécaniquement - VSM | INTERDIT | INTERDIT | INTERDIT |\\n| Cacao non certifié durable | * INTERDIT pour tous les NPD et plan action pour remplacer le cacao non certifié dans l’existant. | INTERDIT | INTERDIT |\\n| Gélatine porcine | INTERDIT | INTERDIT | INTERDIT |\\n| Gélatine animale – (autre que porcine) | À ÉVITER | INTERDIT (tolérance dans les pâtisseries) | INTERDIT (tolérance dans les pâtisseries) |\\n| Huile de palme + palmiste non RSPO | * INTERDIT pour tous les NPD et plan action pour retirer dans l’existant - (tolérée dans supports d’additifs) - En aucun cas, l’huile de palme non RSPO ne pourra être substituée par de l’huile de coprah ou coco. | INTERDIT | INTERDIT |\\n| Huile de palme + palmiste RSPO (certification « Segregated » demandée, à minima « Mass Balance » soumis à dérogation) | À ÉVITER | À ÉVITER | INTERDIT |\\n|                              | A ÉVITER | INTERDIT (tolérance dans les pâtisseries *sauf arômes de fumée et vanilline) | INTERDIT (sauf arômes de fumée) |\\n|------------------------------|----------|----------------------------------------------------------------------------|---------------------------------|\\n| Arômes artificiels           | A ÉVITER | INTERDIT (tolérance dans les pâtisseries *sauf arômes de fumée et vanilline) | INTERDIT (sauf arômes de fumée) |\\n| Colorants artificiels        | A ÉVITER | A ÉVITER Interdit dans les produits salés                                   | INTERDIT                        |\\n| Ingrédients controversés (cf. Annexe IV) | A ÉVITER | A ÉVITER                                                                    | INTERDIT                        |\\n| Additifs rouges (cf. Annexe I) | A ÉVITER | INTERDIT (hors nitrites et polyphosphates)                                  | INTERDIT (hors nitrites dans les produits de salaison) |\\n| Additifs Oranges (cf. Annexe II) | A ÉVITER | A ÉVITER                                                                    | A ÉVITER                        |\\n| Nitrites (E250 à E252)       | A ÉVITER | A ÉVITER                                                                    | INTERDIT (Hors produits de salaison) |\\n| Polyphosphates (E450 à 452 - E339 à 341) | A ÉVITER | A ÉVITER                                                                    | INTERDIT                        |\\n| Viande et volaille origine hors UE | A ÉVITER | A ÉVITER                                                                    | INTERDIT                        |\\n\\nL’ensemble de ces critères est applicable à tous les produits vendus par Coup de Pates. Des dérogations peuvent être accordées au cas par cas, sur justificatifs fournis par le fournisseur et après validation par la direction qualité Coup de Pates.', start_char_idx=2, end_char_idx=4462, text_template='{metadata_str}\\n\\n{content}', metadata_template='{key}: {value}', metadata_seperator='\\n'),\n",
       " TextNode(id_='c3957534-47f9-42c3-bbb5-f8b01cfdd8ca', embedding=None, metadata={'info_density': 0}, excluded_embed_metadata_keys=[], excluded_llm_metadata_keys=[], relationships={<NodeRelationship.SOURCE: '1'>: RelatedNodeInfo(node_id='8f9ac9af-63a2-4727-ab4d-267f0eb30c80', node_type=<ObjectType.DOCUMENT: '4'>, metadata={}, hash='a3281bdabeb10fd61e06b28c157be8f8777dcc6e7f5060622fa21e68de5ac9ec')}, text='2. Produits soumis à certification ou allégations\\n\\nLe fournisseur se doit de communiquer tout document permettant de valider la certification ou allégation associée à un produit.\\n\\nEn vue de vérifier la véracité des critères déclarés, le fournisseur s’engage à transmettre sur demande expresse de Coup de Pates, tout document permettant de justifier la certification et/ou de l’allégation associée(s) au(x) produit(s).', start_char_idx=2, end_char_idx=419, text_template='{metadata_str}\\n\\n{content}', metadata_template='{key}: {value}', metadata_seperator='\\n'),\n",
       " TextNode(id_='4b43283d-b3a4-4952-a834-7242e52e32a2', embedding=None, metadata={'info_density': 0}, excluded_embed_metadata_keys=[], excluded_llm_metadata_keys=[], relationships={<NodeRelationship.SOURCE: '1'>: RelatedNodeInfo(node_id='fac59d1a-dd25-46f5-a621-2cbebef00b9f', node_type=<ObjectType.DOCUMENT: '4'>, metadata={}, hash='3ecb467f2ce5129beef38796e0d967559b052c27e9cd066f1fe4169df9cddc14')}, text='2.1. Produits « sans gluten »\\n\\nLe fournisseur doit confirmer annuellement à Coup de Pates que l’allégation « sans gluten » de son (ses) produit(s) est applicable, conformément au règlement européen n°828/2014. Pour cela, un bulletin d’analyse de quantification du taux de gluten dans le produit fini doit être communiqué au service qualité.\\n\\nSi le fournisseur possède un contrat de licence auprès d’une association de personnes cœliaques (AFDIAG, AOECS…), il en transmettra le numéro de licence à Coup de Pates et les rapports et/ou certificats d’audits selon le référentiel d’audit de l’AOECS.', start_char_idx=2, end_char_idx=596, text_template='{metadata_str}\\n\\n{content}', metadata_template='{key}: {value}', metadata_seperator='\\n'),\n",
       " TextNode(id_='dbb947f5-875a-4b2d-a099-9174380585ba', embedding=None, metadata={'info_density': 0}, excluded_embed_metadata_keys=[], excluded_llm_metadata_keys=[], relationships={<NodeRelationship.SOURCE: '1'>: RelatedNodeInfo(node_id='847e4d08-2f75-4daa-9b61-70a29f20fe33', node_type=<ObjectType.DOCUMENT: '4'>, metadata={}, hash='19f8909814d6d1ed65c5de52ee6c80a4031e9376378a46efe37b4dcff712b56c')}, text='2.2. Produits issus de l’agriculture biologique\\n\\nLe fournisseur s’engage à transmettre sur demande expresse de Coup de Pates, les analyses pesticides sur produits finis pour répondre aux exigences de la réglementation européenne.\\n\\n(Règlement (CE) N°834/2007 relatif à la production biologique et à l’étiquetage des produits biologiques).\\n\\nEn cas de déclassement produit, de non-renouvellement ou de perte de la certification « produit issu de l’agriculture biologique », le fournisseur doit immédiatement en informer le service qualité Coup de Pates afin d’organiser le blocage et le retrait de ces produits.', start_char_idx=2, end_char_idx=610, text_template='{metadata_str}\\n\\n{content}', metadata_template='{key}: {value}', metadata_seperator='\\n'),\n",
       " TextNode(id_='8f4d5b57-d288-4eb9-b502-575ed90e7658', embedding=None, metadata={'info_density': 2}, excluded_embed_metadata_keys=[], excluded_llm_metadata_keys=[], relationships={<NodeRelationship.SOURCE: '1'>: RelatedNodeInfo(node_id='91e68d6f-8236-438a-a48a-5b16e43443a9', node_type=<ObjectType.DOCUMENT: '4'>, metadata={}, hash='e198db12be6b47d7ae7ac5140ebab36ea070159aca875a5da6e1461b93a4668b')}, text=\"3. Exigences générales relatives au fournisseur\\n\\nLe fournisseur se doit de disposer de moyens de contrôle et d'enregistrement permettant le respect de la chaîne du froid dans son stockage et son transport de denrées congelées/surgelées.\\n\\nTout envoi d’échantillon devra être accompagné de la « Fiche d’évolution produit » ou d’une fiche technique fournisseur, reprenant à minima les données techniques demandées dans le document précédent (composition, dimensions, DDM ...). Toute autre information jugée nécessaire par le service qualité Coup de Pates devra être communiquée sur demande. Le cahier des charges Coup de Pates devra être rempli dès que le référencement du produit aura été confirmé.\\n\\nIl revient au fournisseur d’appliquer la plus grande diligence dans le transfert exhaustif de ces données. Le dossier établi à l’issue du processus de référencement sera validé à la fois par le fournisseur et un représentant du service qualité Coup de Pates. Toute modification du dossier technique devra être validée en amont par le service qualité Coup de Pates. Si cela est jugé nécessaire, des échantillons (produit actuel / produit modifié) devront être envoyés au service qualité Coup de Pates. Le cahier des charges devra être revu dans son intégralité tous les 5 ans. Même s’il n’y a pas de modification, le cahier des charges sera de nouveau signé avec la nouvelle date.\", start_char_idx=2, end_char_idx=1379, text_template='{metadata_str}\\n\\n{content}', metadata_template='{key}: {value}', metadata_seperator='\\n'),\n",
       " TextNode(id_='455969ac-c94e-46d5-8508-b0ad64a98108', embedding=None, metadata={'info_density': 2}, excluded_embed_metadata_keys=[], excluded_llm_metadata_keys=[], relationships={<NodeRelationship.SOURCE: '1'>: RelatedNodeInfo(node_id='08978898-cc9e-4f93-9439-3b1506e8514e', node_type=<ObjectType.DOCUMENT: '4'>, metadata={}, hash='b6da94dde667cfd4b0e07bcacdd613dd15bed533340c19980efa44b767a8f97e')}, text='4. Exigences relatives aux sites de production\\n\\nLe fournisseur se doit de communiquer les certificats relatifs à son activité, en cours de validité, par exemple : IFS, BRC, FSSC 22000. Le service qualité Coup de Pates devra être informé de tout renouvellement ou perte de certification.\\n\\nLe fournisseur se doit de communiquer, sur demande de Coup de Pates, l’ensemble des documents permettant de justifier sa maîtrise des risques liés à son activité (étude HACCP par exemple).\\n\\nLa mise en place des mesures contre les actes malveillants en matière de protection de la chaine alimentaire/des produits sont de la responsabilité du fournisseur.\\n\\n**Version :** 5\\n\\nLe fournisseur doit posséder un **numéro d’enregistrement auprès des services officiels**, permettant l’export de ses produits par Coup de Pates.', start_char_idx=2, end_char_idx=807, text_template='{metadata_str}\\n\\n{content}', metadata_template='{key}: {value}', metadata_seperator='\\n'),\n",
       " TextNode(id_='7c3f66b0-94e9-4b30-86c9-c20b2d1d0087', embedding=None, metadata={'info_density': 0}, excluded_embed_metadata_keys=[], excluded_llm_metadata_keys=[], relationships={<NodeRelationship.SOURCE: '1'>: RelatedNodeInfo(node_id='66fa55da-17bf-44bd-abf2-25032d19c37b', node_type=<ObjectType.DOCUMENT: '4'>, metadata={}, hash='18addf12a0c38fb7f995c200923433e75c4a44777314386541f18e6557c1f561')}, text='5. Traçabilité\\n\\nLe fournisseur se doit d’assurer la traçabilité de ses produits, de la réception des matières premières jusqu’à l’expédition des produits finis. La traçabilité d’une référence doit pouvoir être assurée via la date de durabilité minimale (au format jour/mois/année).\\n\\nSur demande de Coup de Pates, le fournisseur s’engage à transmettre les fiches ingrédients, certificats et éléments de traçabilité liés à la nature des matières premières, des emballages et du produit fini ainsi que les bilans de matière dans les délais stipulés.', start_char_idx=2, end_char_idx=548, text_template='{metadata_str}\\n\\n{content}', metadata_template='{key}: {value}', metadata_seperator='\\n'),\n",
       " TextNode(id_='e87a27cc-633c-4b3f-bd9d-0b80a69fd49c', embedding=None, metadata={'info_density': 0}, excluded_embed_metadata_keys=[], excluded_llm_metadata_keys=[], relationships={<NodeRelationship.SOURCE: '1'>: RelatedNodeInfo(node_id='0b96bef2-9f45-4d52-828b-5400105507d1', node_type=<ObjectType.DOCUMENT: '4'>, metadata={}, hash='9ada27b99e21839ef1de108658ab47b536c0cef1131ac889632f02bf0240f752')}, text='6. Suivi analytique', start_char_idx=2, end_char_idx=21, text_template='{metadata_str}\\n\\n{content}', metadata_template='{key}: {value}', metadata_seperator='\\n'),\n",
       " TextNode(id_='70443722-915a-4c9d-bec3-0ece3ca9bdc6', embedding=None, metadata={'info_density': 0}, excluded_embed_metadata_keys=[], excluded_llm_metadata_keys=[], relationships={<NodeRelationship.SOURCE: '1'>: RelatedNodeInfo(node_id='01bd448a-14ea-4bb9-a2da-7e5b88e26191', node_type=<ObjectType.DOCUMENT: '4'>, metadata={}, hash='ed2fd4e7abf2635bad0c8f2d733c770fe3ca6095f66a9501ba0b649e6f31902d')}, text='6.1. Suivi microbiologique\\n\\nLes analyses microbiologiques réalisées sur les produits finis doivent être en adéquation avec la réglementation européenne n°2073/2005 et les recommandations de la FCD en France, du DGHM en Allemagne et en Suisse, ou équivalent local au sein de l’Europe.\\n\\nUne analyse microbiologique devra être réalisée lors de chaque première fabrication. Cette analyse devra être réalisée par un laboratoire accrédité COFRAC ou équivalent du COFRAC reconnu par l’ILAC dans les pays concernés ou certifié ISO 17025. Les résultats doivent être transmis au service qualité Coup de Pates.\\n\\nL’ensemble des produits Coup de Pates doivent être inclus dans le plan de contrôle microbiologique du fournisseur, selon les critères FCD. Sur demande de Coup de Pates, un nouveau bulletin d’analyse devra être communiqué.', start_char_idx=2, end_char_idx=824, text_template='{metadata_str}\\n\\n{content}', metadata_template='{key}: {value}', metadata_seperator='\\n'),\n",
       " TextNode(id_='db7e739e-0a5e-4921-9558-594d2d462886', embedding=None, metadata={'info_density': 1}, excluded_embed_metadata_keys=[], excluded_llm_metadata_keys=[], relationships={<NodeRelationship.SOURCE: '1'>: RelatedNodeInfo(node_id='818e295a-fc92-43a6-ba70-08c7a303ea08', node_type=<ObjectType.DOCUMENT: '4'>, metadata={}, hash='e3ee898e7e9881be59056ffa2e8325d9c775b5ff28fe848d35e6762d2bb6b7f4')}, text='6.2. Suivi nutritionnel\\n\\nLe fournisseur doit communiquer à Coup de Pates une analyse nutritionnelle réalisée par un laboratoire accrédité COFRAC ou équivalent du COFRAC reconnu par l’ILAC dans les pays concernés. Cette analyse doit être réalisée pour chaque nouveau produit référencé, afin de répondre aux exigences d’étiquetage européennes (avec quantification des acides gras trans et des fibres), et à chaque modification de matières premières et/ou de recette. La communication d’analyses nutritionnelles calculées à l’aide d’un logiciel consolidé est également acceptée.\\n\\nSur demande de Coup de Pates, un nouveau bulletin d’analyse devra être communiqué.', start_char_idx=2, end_char_idx=661, text_template='{metadata_str}\\n\\n{content}', metadata_template='{key}: {value}', metadata_seperator='\\n'),\n",
       " TextNode(id_='bfb4225f-a3a3-4fa1-a16d-62e83e3fcf82', embedding=None, metadata={'info_density': 0}, excluded_embed_metadata_keys=[], excluded_llm_metadata_keys=[], relationships={<NodeRelationship.SOURCE: '1'>: RelatedNodeInfo(node_id='85bd2788-8546-4773-8a28-a9c0460e66e2', node_type=<ObjectType.DOCUMENT: '4'>, metadata={}, hash='22ed8078f57b327174c40f9152061431364c304f9be8746ad4ea34a425890a07')}, text='6.3. Suivi organoleptique\\n\\nL’ensemble des produits Coup de Pates doivent être inclus dans le plan de contrôle organoleptique du fournisseur. Sur demande de Coup de Pates, les résultats de ces analyses devront être communiqués.', start_char_idx=2, end_char_idx=228, text_template='{metadata_str}\\n\\n{content}', metadata_template='{key}: {value}', metadata_seperator='\\n'),\n",
       " TextNode(id_='019b6daf-fff2-4882-a7c3-2df12e659b61', embedding=None, metadata={'info_density': 2}, excluded_embed_metadata_keys=[], excluded_llm_metadata_keys=[], relationships={<NodeRelationship.SOURCE: '1'>: RelatedNodeInfo(node_id='784d4551-2e2f-4b93-be75-e7b3f729737f', node_type=<ObjectType.DOCUMENT: '4'>, metadata={}, hash='6ffd5ae38016941d36f53d77ee5e7b15b5943d17cf174af10caedf7bd71cd248')}, text='7. Non conformités\\n\\nEn cas de non-conformité produit, sanitaire ou réglementaire, le fournisseur s’engage à alerter immédiatement Coup de Pates et à communiquer les éléments de traçabilité nécessaires.\\n\\nEn cas de non-conformité détectée par le service qualité Coup de Pates ou un de ses clients, une notification est envoyée au fournisseur. Celui-ci s’engage à communiquer son analyse et son plan d’action dans les délais demandés.', start_char_idx=2, end_char_idx=433, text_template='{metadata_str}\\n\\n{content}', metadata_template='{key}: {value}', metadata_seperator='\\n'),\n",
       " TextNode(id_='5057b2a9-9acf-4be1-b1b1-e21f881668ce', embedding=None, metadata={'info_density': 0}, excluded_embed_metadata_keys=[], excluded_llm_metadata_keys=[], relationships={<NodeRelationship.SOURCE: '1'>: RelatedNodeInfo(node_id='bcecbb87-f04c-4d2d-9343-0aff5b5070f0', node_type=<ObjectType.DOCUMENT: '4'>, metadata={}, hash='b8e50946f07f7bac7d9edbd57276863111781aa938ed8dbf2e766c5d7de14973')}, text='8. Gestion de crise Coup de Pates\\n\\nEn cas de crise, le fournisseur s’engage à suivre la procédure de gestion de crise/alerte qui lui a été communiquée par Coup de Pates. Un contact spécifique avec numéro d’astreinte doit être communiqué.', start_char_idx=2, end_char_idx=239, text_template='{metadata_str}\\n\\n{content}', metadata_template='{key}: {value}', metadata_seperator='\\n'),\n",
       " TextNode(id_='a6b81683-0627-4a53-9add-c6c998b2f588', embedding=None, metadata={'info_density': 1}, excluded_embed_metadata_keys=[], excluded_llm_metadata_keys=[], relationships={<NodeRelationship.SOURCE: '1'>: RelatedNodeInfo(node_id='84581a4f-648e-4459-9045-2150a9b72fdc', node_type=<ObjectType.DOCUMENT: '4'>, metadata={}, hash='9764e29c83d71bf6e4d7c43a8612034fe03444207975fa323ba09eed8fcbd38f')}, text=\"ANNEXE I : Additifs rouges : additifs pour lesquels les rapports scientifiques rapportent une potentielle cancérogénicité ou une implication dans les pathologies lourdes\\n\\n| Additif                          | Code  | Additif                                | Code  |\\n|----------------------------------|-------|----------------------------------------|-------|\\n| Tartrazine                       | E 102 | Acide propionique                      | E 280 |\\n| Jaune de quinoléine              | E 104 | Propionate de sodium                   | E 281 |\\n| Sunset Yellow FCF/Jaune orange S | E 110 | Propionate de potassium                | E 283 |\\n| Azorubine, carmoisine            | E 122 | Acide borique                          | E 284 |\\n| Amarante                         | E 123 | Tétraborate de sodium (borax)          | E 285 |\\n| Ponceau 4R, rouge cochenille A   | E 124 | Acide fumarique                        | E 297 |\\n| Erythrosine                      | E 127 | Gamma-tocophérol                       | E 308 |\\n| Rouge allura AC                  | E 129 | Delta-tocophérol                       | E 309 |\\n| Indigotine, carmin d’indigo      | E 132 | Gallate de propyle                     | E 310 |\\n| Bleu brillant FCF                | E 133 | Acide érythorbique                     | E 315 |\\n| Vert S                           | E 142 | Butylhydro-quinone tertiaire (BHQT)    | E 319 |\\n| Caramel ammoniacal               | E 150c| Butylhydroxy-anisol (BHA)              | E 320 |\\n| Caramel au sulfite d’ammonium    | E 150d| Butylhydroxy-toluène (BHT)             | E 321 |\\n| Noir brillant PN                 | E 151 | Tartrates de sodium                    | E 335 |\\n| Brun HT                          | E 155 | Tartrate double de sodium et de potassium | E 337 |\\n| Carbonate de calcium             | E 170 | Acide phosphorique                     | E 338 |\\n| Dioxyde de titane                | E 171 | Phosphates de sodium                   | E 339 |\\n| Oxyde et hydroxyde de fer        | E 172 | Phosphates de potassium                | E 340 |\\n| Aluminium                        | E 173 | Phosphates de calcium                  | E 341 |\\n| Argent                           | E 174 | Phosphates de magnésium                | E 343 |\\n| Lithol-rubine BK                 | E 180 | Malates de sodium                      | E 350 |\\n| **Benozoate de potassium** | **E 212** | **Malates de calcium** | **E 352** |\\n|----------------------------|-----------|------------------------|-----------|\\n| **Benzoate de calcium**    | **E 213** | **Acide adipique**     | **E 355** |\\n| **P-hydroxybenzoate d’éthyle** | **E 214** | **Adipate de sodium** | **E 356** |\\n| **Dérivé sodique de l’ester éthylique de l’acide p-hydroxybenzoïque** | **E 215** | **Adipate de potassium** | **E 357** |\\n| **P-hydroxybenzoate de méthyle** | **E 218** | **Acide succinique** | **E 363** |\\n| **Dérivé sodique de l’ester méthylique de l’acide p-hydroxybenzoïque** | **E 219** | **Citrate de triammonium** | **E 380** |\\n| **Nisine** | **E 234** | **Alginate de potassium** | **E 402** |\\n| **Hexaméthylènetétramine** | **E 239** | **Alginate d’ammonium** | **E 403** |\\n| **Dicarbonate de diméthyle** | **E 242** | **Mannitol** | **E 421** |\\n| **Éthyl Lauroyl Arginate** | **E 243** | **Gomme arabique modifiée à l’acide octénylsuccinique (OSA)** | **E 423** |\\n| **Nitrite de potassium** | **E 249** | **Konjac** | **E 425** |\\n| **Nitrite de sodium** | **E 250** | **Hémicellulose de soja** | **E 426** |\\n| **Nitrate de sodium** | **E 251** | **Stéarate de polyoxyéthylène (40)** | **E 431** |\\n| **Nitrate de potassium** | **E 252** | **Mono laurate de polyoxyéthylène de sorbitane (polysorbate 20)** | **E 432** |\\n| **Monooléate de polyoxyéthylène de sorbitane (polysorbate 80)** | **E 433** | **Dioxyde de silicium** | **E 551** |\\n| **Monopalmitate de polyoxyéthylène de sorbitane (polysorbate 40)** | **E 434** | **Silicate de calcium** | **E 552** |\\n| **Monostéarate de polyoxyéthylène de sorbitane (polysorbate 60)** | **E 435** | **Silicate de magnésium** | **E 553a** |\\n| **Tristéarate de polyoxyéthylène de sorbitane (polysorbate 65)** | **E 436** | **Talc** | **E 553b** |\\n| **Phosphatides d’ammonium** | **E 442** | **Silicate alumino-sodique** | **E 554** |\\n| **Acétate isobutyrate de saccharose** | **E 444** |\\n|---------------------------------------|-----------|\\n| Esters glycériques de résine de bois  | E 445     |\\n| Diphosphates                          | E 450     |\\n| Triphosphates                         | E 451     |\\n| Polyphosphates                        | E 452     |\\n| Polyaspartate de potassium            | E 456     |\\n| Bêta-cyclodextrine                    | E 459     |\\n| Éthylcellulose                        | E 462     |\\n| Hydroxypropylcellulose faiblement substituée (L-HPC) | E 463a    |\\n| Méthyléthylcellulose                  | E 465     |\\n| Carboxyméthylcellulose de sodium réticulée, gomme de cellulose réticulée | E 468     |\\n| Carboxyméthylcellulose hydrolysée de manière enzymatique, gomme de cellulose hydrolysée de manière enzymatique | E 469     |\\n| Sucroglycérides                       | E 474     |\\n| Huile de soja oxydée par chauffage ayant réagi avec des mono- et diglycérides d’acides gras | E 479b    |\\n| Monostéarate de sorbitane             | E 491     |\\n| Tristéarate de sorbitane              | E 492     |\\n| Monolaurate de sorbitane              | E 493     |\\n| Monooléate de sorbitane               | E 494     |\\n| Monopalmitate de sorbitane            | E 495     |\\n| Chlorure d’étain                      | E 512     |\\n| Silicate alumino-potassique           | E 555     |\\n| 4-Hexylrésorcinol                     | E 586     |\\n| Acide glutamique                      | E 620     |\\n| Glutamate monosodique                 | E 621     |\\n| Glutamate monopotassique              | E 622     |\\n| Diglutamate de calcium                | E 623     |\\n| Glutamate d’ammonium                  | E 624     |\\n| Diglutamate de magnésium              | E 625     |\\n| Acide guanylique                      | E 626     |\\n| Guanylate disodique                   | E 627     |\\n| Guanylate dipotassique                | E 628     |\\n| Guanylate de calcium                  | E 629     |\\n| Acide inosinique                      | E 630     |\\n| Inosinate disodique                   | E 631     |\\n| Inosinate dipotassique                | E 632     |\\n| Inosinate de calcium                  | E 633     |\\n| 5'-ribonucléotide calcique            | E 634     |\\n| 5'-ribonucléotide disodique           | E 635     |\\n| Glycine et son sel de sodium          | E 640     |\\n| Acétate de zinc                       | E 650     |\\n| Sulfate d’aluminium                      | E 520  | Cire microcristalline                                      | E 905  |\\n|------------------------------------------|--------|------------------------------------------------------------|--------|\\n| Sulfate d’aluminium sodique              | E 521  | Poly-1-décène hydrogéné                                     | E 907  |\\n| Sulfate d’aluminium potassique           | E 522  | Cire de polyéthylène oxydée                                 | E 914  |\\n| Sulfate d’aluminium ammonique            | E 523  | Butane                                                     | E 943a |\\n| Hydroxyde d’ammonium                     | E 527  | Isobutane                                                  | E 943b |\\n| Oxyde de calcium                         | E 529  | Propane                                                    | E 944  |\\n| Oxyde de magnésium                       | E 530  | Acésulfame-K                                               | E 950  |\\n| Ferrocyanure de calcium                  | E 538  | Aspartame                                                  | E 951  |\\n| Phosphate d’aluminium sodique acide      | E 541  | Cyclamates                                                 | E 952  |\\n| Isomalt                                  | E 953  | Polyvinylpolypyrrolidone                                   | E 1202 |\\n| Saccharines                              | E 954  | Alcool polyvinylique (APV)                                 | E 1203 |\\n| Sucralose                                | E 955  | Copolymère méthacrylate basique                            | E 1205 |\\n| Thaumatine                               | E 957  | Copolymère de méthacrylate neutre                          | E 1206 |\\n| Néotame                                  | E 961  | Copolymère de méthacrylate anionique                       | E 1207 |\\n| Sel d’aspartame-acésulfame               | E 962  | Copolymère d’acétate de vinyle et de polyvinylpyrrolidone  | E 1208 |\\n| Sirop de polyglycitol                    | E 964  | Copolymère greffé d’alcool polyvinylique et de polyéthylèneglycol | E 1209 |\\n| Maltitols                                | E 965  | Octényl succinate d’amidon d’aluminium                     | E 1452 |\\n| Xylitol                                  | E 967  | Diacétate de glycéryle (diacétyne)                         | E 1517 |\\n| Érythritol                               | E 968  | Alcool benzylique                                          | E 1519 |\\n| Polyvinylpyrrolidone                     | E 1201 | Polyéthylène glycol                                        | E 1521 |\", start_char_idx=2, end_char_idx=9248, text_template='{metadata_str}\\n\\n{content}', metadata_template='{key}: {value}', metadata_seperator='\\n'),\n",
       " TextNode(id_='07822fbc-4d10-4d8b-81d7-687035608647', embedding=None, metadata={'info_density': 4}, excluded_embed_metadata_keys=[], excluded_llm_metadata_keys=[], relationships={<NodeRelationship.SOURCE: '1'>: RelatedNodeInfo(node_id='f3ae2c50-a5e0-4523-ae5e-efc8af607535', node_type=<ObjectType.DOCUMENT: '4'>, metadata={}, hash='aa28066ceaf2fd11af479677a1671e4ac22f2a8d0cce390d0b6cfbc847552716')}, text='ANNEXE II : Additifs oranges : additifs pour lesquels les rapports scientifiques sont contradictoires\\n\\n| Additif                          | Code  | Additif                                                                 | Code  |\\n|----------------------------------|-------|------------------------------------------------------------------------|-------|\\n| Acide carminique, carmins        | E 120 | Esters lactiques des mono- et diglycérides d’acides gras                | E 472b|\\n| Bleu patenté V                   | E 131 | Esters citriques des mono- et diglycérides d’acides gras                | E 472c|\\n| Caramel de sulfite caustique     | E 150b| Esters tartriques des mono- et diglycérides d’acides gras               | E 472d|\\n| Or                               | E 175 | Esters monoacétyltartriques et diacétyltartriques des mono- et diglycérides d’acides gras | E 472e|\\n| Acide benzoïque                  | E 210 | Esters mixtes acétiques et tartriques des mono- et diglycérides d’acides gras | E 472f|\\n| Benzoate de sodium               | E 211 | Sucroesters d’acides gras                                               | E 473 |\\n| Anhydride sulfureux              | E 220 | Esters polyglycériques d’acides gras                                    | E 475 |\\n| Sulfite de sodium                | E 221 | Esters de propane-1,2-diol d’acides gras                                | E 477 |\\n| Sulfite acide de sodium          | E 222 | Stéaroyl-2-lactylate de sodium                                          | E 481 |\\n| Disulfite de sodium              | E 223 | Stéaroyl-2-lactylate de calcium                                         | E 482 |\\n| Disulfite de potassium           | E 224 | Tartrate de stéaryle                                                    | E 483 |\\n| Sulfite de calcium               | E 226 | Diméthylpolysiloxane                                                    | E 900 |\\n| Sulfite acide de calcium         | E 227 | Advantame                                                               | E 969 |\\n| Sulfite acide de potassium       | E 228 | Extraits de quillaia                                                    | E 999 |\\n| Natamycine                       | E 235 | Lysozyme                                                                | E 1105|\\n| Éthylène-diamine-tétra-acétate de calcium disodium (calcium disodium EDTA) | E 385 | Amidon oxydé                                                            | E 1404|\\n| Alginate de propane-1,2-diol     | E 405 | Phosphate de monoamidon                                                 | E 1410|\\n| Algues Euchema transformées | E 407a | Phosphate de diamidon | E 1412 |\\n|-----------------------------|--------|-----------------------|--------|\\n| Carraghénanes               | E 407  | Phosphate de diamidon phosphaté | E 1413 |\\n| Cellulose                   | E 460  | Phosphate de diamidon acétylé | E 1414 |\\n| Hydroxypropylcellulose      | E 463  | Amidon acétylé | E 1420 |\\n| Hydroxypropylméthylcellulose| E 464  | Adipate de diamidon acétylé | E 1422 |\\n| Carboxyméthyl-cellulose sodique, gomme cellulosique | E 466 | Amidon hydroxypropylé | E 1440 |\\n| Sels de sodium, de potassium, calcium d’acides gras, magnésium d’acides gras | E 470 | Phosphate de diamidon hydroxypropylé | E 1442 |\\n| Mono- et diglycérides d’acides gras | E 471 | Octényle succinate d’amidon sodique | E 1450 |\\n| Esters acétiques des mono- et diglycérides d’acides gras | E 472a | Amidon oxydé acétylé | E 1451 |', start_char_idx=2, end_char_idx=3474, text_template='{metadata_str}\\n\\n{content}', metadata_template='{key}: {value}', metadata_seperator='\\n'),\n",
       " TextNode(id_='0969ff86-eee3-4677-9d5b-477801c537d9', embedding=None, metadata={'info_density': 7}, excluded_embed_metadata_keys=[], excluded_llm_metadata_keys=[], relationships={<NodeRelationship.SOURCE: '1'>: RelatedNodeInfo(node_id='4268a29f-8efe-491c-bf7f-3664b344d288', node_type=<ObjectType.DOCUMENT: '4'>, metadata={}, hash='82360f19ebabca83c8c4b72dc7c8b96bed816f061ce942c2cd1ea971a6b933b4')}, text=\"ANNEXE III : Additifs verts : additifs identifiés à ce jour comme non dangereux pour la santé.\\n\\n| Additif                                      | Code  | Additif                                      | Code  |\\n|----------------------------------------------|-------|----------------------------------------------|-------|\\n| Curcumine                                   | E 100 | Tartrates de potassium                       | E 336 |\\n| Riboflavines                                | E 101 | Malate de potassium                          | E 351 |\\n| Chlorophylles et chlorophyllines            | E 140 | Acide métatartarique                         | E 353 |\\n| Complexes cuivre-chlorophylles et cuivre-chlorophyllines | E 141 | Tartrate de calcium                          | E 354 |\\n| Caramel ordinaire                           | E 150a| Extraits de romarin                          | E 392 |\\n| Charbon végétal médicinal                   | E 153 | Acide alginique                              | E 400 |\\n| Caroténoïdes                                | E 160a| Alginate de sodium                           | E 401 |\\n| Bixine de rocou / Norbixine de rocou        | E 160b| Alginate de calcium                          | E 404 |\\n| Extrait de paprika, capsanthine, capsorubine| E 160c| Agar-agar                                    | E 406 |\\n| Lycopène                                    | E 160d| Farine de graines de caroube                 | E 410 |\\n| β- apocaroténal-8' (C 30)                   | E 160e| Gomme guar                                   | E 412 |\\n| Lutéine                                     | E 161b| Gomme adragante                              | E 413 |\\n| Rouge de betterave, bétanine                | E 162 | Gomme arabique ou gomme d’acacia             | E 414 |\\n| Anthocyanes                                 | E 163 | Gomme xanthane                               | E 415 |\\n| Acide sorbique                              | E 200 | Gomme Karaya                                 | E 416 |\\n| Sorbate de potassium                        | E 202 | Gomme Tara                                   | E 417 |\\n| Acide acétique                              | E 260 | Gomme Gellane                                | E 418 |\\n| Acétates de potassium                       | E 261 | Sorbitols                                    | E 420 |\\n| Acétates de sodium                          | E 262 | Glycérol                                     | E 422 |\\n| Acétate de calcium                          | E 263 | Gomme cassia                                 | E 427 |\\n| Acide lactique                              | E 270 | Pectines                                     | E 440 |\\n| Propionate de calcium                       | E 282 | Méthylcellulose                              | E 461 |\\n| Dioxyde de carbone                          | E 290 | Sels de sodium, de potassium et de calcium d’acides gras | E 470a |\\n| Acide malique                               | E 296 | Sels de magnésium d’acides gras              | E 470b |\\n| Acide ascorbique                            | E 300 | Polyglycérols de polyglycérol                | E 476 |\\n| Ascorbate de sodium                         | E 301 | Phytostérols riches en stigmastérol          | E 499 |\\n| Ascorbate de calcium                        | E 302 | Carbonates de sodium                         | E 500 |\\n| Esters d’acides gras de l’acide ascorbique  | E 304 | Carbonates de potassium                      | E 501 |\\n| Extrait riche en tocophérols                | E 306 | Carbonates d’ammonium                        | E 503 |\\n| Alpha-tocophérol                            | E 307 | Carbonates de magnésium                      | E 504 |\\n| Érythorbate de sodium                       | E 316 | Acide chlorhydrique                          | E 507 |\\n| Lécithines                                  | E 322 | Chlorure de potassium                        | E 508 |\\n| Lactate de sodium                           | E 325 | Chlorure de calcium                          | E 509 |\\n| Lactate de potassium                        | E 326 | Chlorure de magnésium                        | E 511 |\\n| Lactate de calcium                          | E 327 | Acide sulfurique                             | E 513 |\\n| Acide citrique                              | E 330 | Sulfates de sodium                           | E 514 |\\n| Citrates de sodium                          | E 331 | Sulfates de potassium                        | E 515 |\\n| Citrates de potassium                       | E 332 | Sulfate de calcium                           | E 516 |\\n| Citrates de calcium                         | E 333 | Sulfate d’ammonium                           | E 517 |\\n| Acide tartrique [L (+)]                     | E 334 | Hydroxyde de sodium                          | E 524 |\\n| Hydroxyde de potassium       | E 525  | Shellac                                | E 904  |\\n|------------------------------|--------|----------------------------------------|--------|\\n| Hydroxyde de calcium         | E 526  | L-cystéine                             | E 920  |\\n| Hydroxyde de magnésium       | E 528  | Carbamide                              | E 927b |\\n| Tartrate de fer              | E 534  | Argon                                  | E 938  |\\n| Ferrocyanure de sodium       | E 535  | Hélium                                 | E 939  |\\n| Ferrocyanure de potassium    | E 536  | Azote                                  | E 941  |\\n| Acides gras                  | E 570  | Protoxyde d’azote                      | E 942  |\\n| Acide gluconique             | E 574  | Oxygène                                | E 948  |\\n| Glucono-delta-lactone        | E 575  | Hydrogène                              | E 949  |\\n| Gluconate de sodium          | E 576  | Néo-hespéridine DC                     | E 959  |\\n| Gluconate de potassium       | E 577  | Glycosides de stéviol                  | E 960  |\\n| Gluconate de calcium         | E 578  | Lactitol                               | E 966  |\\n| Gluconate ferreux            | E 579  | Invertase                              | E 1103 |\\n| Lactate ferreux              | E 585  | Polydextrose                           | E 1200 |\\n| L-leucine                    | E 641  | Pullulan                               | E 1204 |\\n| Cire d’abeille blanche et jaune | E 901 | Citrate de triéthyle                   | E 1505 |\\n| Cire de candelilla           | E 902  | Triacétate de glycéryle (triacétine)   | E 1518 |\\n| Cire de carnauba             | E 903  | Propanediol-1,2 (propylène glycol)     | E 1520 |\", start_char_idx=2, end_char_idx=6538, text_template='{metadata_str}\\n\\n{content}', metadata_template='{key}: {value}', metadata_seperator='\\n'),\n",
       " TextNode(id_='c513f3e0-6ce3-434c-973f-b10496f7f813', embedding=None, metadata={'info_density': 2}, excluded_embed_metadata_keys=[], excluded_llm_metadata_keys=[], relationships={<NodeRelationship.SOURCE: '1'>: RelatedNodeInfo(node_id='0c8dc3c8-b4ff-4555-85d2-200b2970fd2b', node_type=<ObjectType.DOCUMENT: '4'>, metadata={}, hash='c14b16dbf1d39d40a2dfda2292f356f68ec8d6228d384b482bfa8ae0b9f7ce88')}, text='ANNEXE IV : Ingrédients controversés : ingrédients faisant l’objet de rapports scientifiques controversés et/ou perçus négativement par le consommateur.\\n\\n| Ingrédient                | Motif                                                                 |\\n|---------------------------|----------------------------------------------------------------------|\\n| Sirop de glucose-fructose | Niveau de transformation élevé + manque de transparence sur le niveau de sucre présent dans le produit |\\n| Maltodextrine             | Ingrédient sans intérêt nutritionnel et organoleptique               |\\n| Huile de coco/coprah      | Contient 80% d’acides gras saturés dont l’excès augmente le risque de maladies cardiovasculaires |\\n| Sirop de maïs             | Niveau de transformation élevé + manque de transparence sur le niveau de sucre présent dans le produit |', start_char_idx=2, end_char_idx=858, text_template='{metadata_str}\\n\\n{content}', metadata_template='{key}: {value}', metadata_seperator='\\n')]"
      ]
     },
     "execution_count": 11,
     "metadata": {},
     "output_type": "execute_result"
    }
   ],
   "source": [
    "agent.diff_query_engine.cleaned_nodes"
   ]
  },
  {
   "cell_type": "code",
   "execution_count": 13,
   "metadata": {},
   "outputs": [
    {
     "data": {
      "text/plain": [
       "0.8433791841632852"
      ]
     },
     "execution_count": 13,
     "metadata": {},
     "output_type": "execute_result"
    }
   ],
   "source": [
    "response.source_nodes[0].score"
   ]
  },
  {
   "cell_type": "code",
   "execution_count": 7,
   "metadata": {},
   "outputs": [
    {
     "data": {
      "text/plain": [
       "[NodeWithScore(node=TextNode(id_='07822fbc-4d10-4d8b-81d7-687035608647', embedding=None, metadata={'info_density': 0}, excluded_embed_metadata_keys=[], excluded_llm_metadata_keys=[], relationships={<NodeRelationship.SOURCE: '1'>: RelatedNodeInfo(node_id='f3ae2c50-a5e0-4523-ae5e-efc8af607535', node_type=<ObjectType.DOCUMENT: '4'>, metadata={}, hash='aa28066ceaf2fd11af479677a1671e4ac22f2a8d0cce390d0b6cfbc847552716')}, text='Chunk #0 : \\n ANNEXE II : Additifs oranges : additifs pour lesquels les rapports scientifiques sont contradictoires\\n\\n| Additif                          | Code  | Additif                                                                 | Code  |\\n|----------------------------------|-------|------------------------------------------------------------------------|-------|\\n| Acide carminique, carmins        | E 120 | Esters lactiques des mono- et diglycérides d’acides gras                | E 472b|\\n| Bleu patenté V                   | E 131 | Esters citriques des mono- et diglycérides d’acides gras                | E 472c|\\n| Caramel de sulfite caustique     | E 150b| Esters tartriques des mono- et diglycérides d’acides gras               | E 472d|\\n| Or                               | E 175 | Esters monoacétyltartriques et diacétyltartriques des mono- et diglycérides d’acides gras | E 472e|\\n| Acide benzoïque                  | E 210 | Esters mixtes acétiques et tartriques des mono- et diglycérides d’acides gras | E 472f|\\n| Benzoate de sodium               | E 211 | Sucroesters d’acides gras                                               | E 473 |\\n| Anhydride sulfureux              | E 220 | Esters polyglycériques d’acides gras                                    | E 475 |\\n| Sulfite de sodium                | E 221 | Esters de propane-1,2-diol d’acides gras                                | E 477 |\\n| Sulfite acide de sodium          | E 222 | Stéaroyl-2-lactylate de sodium                                          | E 481 |\\n| Disulfite de sodium              | E 223 | Stéaroyl-2-lactylate de calcium                                         | E 482 |\\n| Disulfite de potassium           | E 224 | Tartrate de stéaryle                                                    | E 483 |\\n| Sulfite de calcium               | E 226 | Diméthylpolysiloxane                                                    | E 900 |\\n| Sulfite acide de calcium         | E 227 | Advantame                                                               | E 969 |\\n| Sulfite acide de potassium       | E 228 | Extraits de quillaia                                                    | E 999 |\\n| Natamycine                       | E 235 | Lysozyme                                                                | E 1105|\\n| Éthylène-diamine-tétra-acétate de calcium disodium (calcium disodium EDTA) | E 385 | Amidon oxydé                                                            | E 1404|\\n| Alginate de propane-1,2-diol     | E 405 | Phosphate de monoamidon                                                 | E 1410|\\n| Algues Euchema transformées | E 407a | Phosphate de diamidon | E 1412 |\\n|-----------------------------|--------|-----------------------|--------|\\n| Carraghénanes               | E 407  | Phosphate de diamidon phosphaté | E 1413 |\\n| Cellulose                   | E 460  | Phosphate de diamidon acétylé | E 1414 |\\n| Hydroxypropylcellulose      | E 463  | Amidon acétylé | E 1420 |\\n| Hydroxypropylméthylcellulose| E 464  | Adipate de diamidon acétylé | E 1422 |\\n| Carboxyméthyl-cellulose sodique, gomme cellulosique | E 466 | Amidon hydroxypropylé | E 1440 |\\n| Sels de sodium, de potassium, calcium d’acides gras, magnésium d’acides gras | E 470 | Phosphate de diamidon hydroxypropylé | E 1442 |\\n| Mono- et diglycérides d’acides gras | E 471 | Octényle succinate d’amidon sodique | E 1450 |\\n| Esters acétiques des mono- et diglycérides d’acides gras | E 472a | Amidon oxydé acétylé | E 1451 |', start_char_idx=2, end_char_idx=3474, text_template='{metadata_str}\\n\\n{content}', metadata_template='{key}: {value}', metadata_seperator='\\n'), score=0.9084556),\n",
       " NodeWithScore(node=TextNode(id_='45c82c0a-5792-494c-9f04-1025a5279347', embedding=None, metadata={'info_density': 0}, excluded_embed_metadata_keys=[], excluded_llm_metadata_keys=[], relationships={<NodeRelationship.SOURCE: '1'>: RelatedNodeInfo(node_id='c9b86108-0958-4b9b-b658-dcc98ccb2943', node_type=<ObjectType.DOCUMENT: '4'>, metadata={}, hash='78f3f962d977fc5955368245fea9524b4257887505299c9f064866cd06c532ff')}, text='Chunk #3 : \\n 1. Exigence recette\\n\\nPour le développement de nos produits, nous souhaitons favoriser une offre saine avec des recettes simples (sans colorant, sans arôme, sans conservateur), avec des ingrédients de qualité, en favorisant des produits locaux et labellisés.\\n\\nLe fournisseur s’engage à respecter la réglementation européenne et nationale ainsi que les codes d’usages professionnels applicables aux produits surgelés vendus à Coup de Pates.\\n\\nPour les produits commercialisés sous une marque appartenant à Coup de Pates, le fournisseur s’engage également à respecter les exigences spécifiques de cette même marque.\\n\\nDans ce cas, nos exigences recettes sont spécifiques à trois niveaux gammes : Entrée de gamme, Cœur de gamme, Haut de gamme.\\n\\nPour les produits développés en réponse à des demandes spécifiques de nos clients, il vous sera également demandé de prendre leurs exigences en considération.\\n\\n| Caractéristiques | Entrée de gamme | Cœur de gamme | Haut de Gamme |\\n|------------------|-----------------|---------------|---------------|\\n| Ingrédients soumis à déclaration OGM | INTERDIT | INTERDIT | INTERDIT |\\n| Traitement par ionisation | INTERDIT | INTERDIT | INTERDIT |\\n| Colorants azoïques (E102, E104, E110, E122, E124, E129) | INTERDIT | INTERDIT | INTERDIT |\\n| Nanoparticules (E170, E171, E172, E174, E152, E341, E551 et E552) | INTERDIT | INTERDIT | INTERDIT |\\n| Glutamates et exhausteurs de goût | INTERDIT | INTERDIT | INTERDIT |\\n| Œufs de poules élevées en cage | INTERDIT | INTERDIT | INTERDIT |\\n| Matières grasses partiellement hydrogénées | INTERDIT | INTERDIT | INTERDIT |\\n| Acides gras trans non naturellement présents | INTERDIT | INTERDIT | INTERDIT |\\n| Édulcorants de synthèse | INTERDIT | INTERDIT | INTERDIT |\\n| Viande Séparée Mécaniquement - VSM | INTERDIT | INTERDIT | INTERDIT |\\n| Cacao non certifié durable | * INTERDIT pour tous les NPD et plan action pour remplacer le cacao non certifié dans l’existant. | INTERDIT | INTERDIT |\\n| Gélatine porcine | INTERDIT | INTERDIT | INTERDIT |\\n| Gélatine animale – (autre que porcine) | À ÉVITER | INTERDIT (tolérance dans les pâtisseries) | INTERDIT (tolérance dans les pâtisseries) |\\n| Huile de palme + palmiste non RSPO | * INTERDIT pour tous les NPD et plan action pour retirer dans l’existant - (tolérée dans supports d’additifs) - En aucun cas, l’huile de palme non RSPO ne pourra être substituée par de l’huile de coprah ou coco. | INTERDIT | INTERDIT |\\n| Huile de palme + palmiste RSPO (certification « Segregated » demandée, à minima « Mass Balance » soumis à dérogation) | À ÉVITER | À ÉVITER | INTERDIT |\\n|                              | A ÉVITER | INTERDIT (tolérance dans les pâtisseries *sauf arômes de fumée et vanilline) | INTERDIT (sauf arômes de fumée) |\\n|------------------------------|----------|----------------------------------------------------------------------------|---------------------------------|\\n| Arômes artificiels           | A ÉVITER | INTERDIT (tolérance dans les pâtisseries *sauf arômes de fumée et vanilline) | INTERDIT (sauf arômes de fumée) |\\n| Colorants artificiels        | A ÉVITER | A ÉVITER Interdit dans les produits salés                                   | INTERDIT                        |\\n| Ingrédients controversés (cf. Annexe IV) | A ÉVITER | A ÉVITER                                                                    | INTERDIT                        |\\n| Additifs rouges (cf. Annexe I) | A ÉVITER | INTERDIT (hors nitrites et polyphosphates)                                  | INTERDIT (hors nitrites dans les produits de salaison) |\\n| Additifs Oranges (cf. Annexe II) | A ÉVITER | A ÉVITER                                                                    | A ÉVITER                        |\\n| Nitrites (E250 à E252)       | A ÉVITER | A ÉVITER                                                                    | INTERDIT (Hors produits de salaison) |\\n| Polyphosphates (E450 à 452 - E339 à 341) | A ÉVITER | A ÉVITER                                                                    | INTERDIT                        |\\n| Viande et volaille origine hors UE | A ÉVITER | A ÉVITER                                                                    | INTERDIT                        |\\n\\nL’ensemble de ces critères est applicable à tous les produits vendus par Coup de Pates. Des dérogations peuvent être accordées au cas par cas, sur justificatifs fournis par le fournisseur et après validation par la direction qualité Coup de Pates.', start_char_idx=2, end_char_idx=4462, text_template='{metadata_str}\\n\\n{content}', metadata_template='{key}: {value}', metadata_seperator='\\n'), score=0.35734323)]"
      ]
     },
     "execution_count": 7,
     "metadata": {},
     "output_type": "execute_result"
    }
   ],
   "source": [
    "nodes_to_update = [response.source_nodes[int(i)] for i in response.response.used_chunks]\n",
    "nodes_to_update"
   ]
  },
  {
   "cell_type": "code",
   "execution_count": 8,
   "metadata": {},
   "outputs": [
    {
     "name": "stdout",
     "output_type": "stream",
     "text": [
      "Node found\n",
      "Node found\n"
     ]
    }
   ],
   "source": [
    "diff_query_engine.update_query_engine(nodes_to_update)"
   ]
  },
  {
   "cell_type": "code",
   "execution_count": 9,
   "metadata": {},
   "outputs": [],
   "source": [
    "agent.query_engine = diff_query_engine.query_engine"
   ]
  },
  {
   "cell_type": "code",
   "execution_count": 9,
   "metadata": {},
   "outputs": [
    {
     "data": {
      "text/html": [
       "<div>\n",
       "<style scoped>\n",
       "    .dataframe tbody tr th:only-of-type {\n",
       "        vertical-align: middle;\n",
       "    }\n",
       "\n",
       "    .dataframe tbody tr th {\n",
       "        vertical-align: top;\n",
       "    }\n",
       "\n",
       "    .dataframe thead th {\n",
       "        text-align: right;\n",
       "    }\n",
       "</style>\n",
       "<table border=\"1\" class=\"dataframe\">\n",
       "  <thead>\n",
       "    <tr style=\"text-align: right;\">\n",
       "      <th></th>\n",
       "      <th>name</th>\n",
       "      <th>Coeur de Gamme.0</th>\n",
       "      <th>Coeur de Gamme.0.detail</th>\n",
       "      <th>cleaned_name</th>\n",
       "    </tr>\n",
       "  </thead>\n",
       "  <tbody>\n",
       "    <tr>\n",
       "      <th>0</th>\n",
       "      <td>Framboise</td>\n",
       "      <td>Authorized</td>\n",
       "      <td>Le document fourni ne mentionne pas spécifique...</td>\n",
       "      <td>framboise</td>\n",
       "    </tr>\n",
       "    <tr>\n",
       "      <th>1</th>\n",
       "      <td>Eau</td>\n",
       "      <td>Authorized</td>\n",
       "      <td>Le document ne mentionne pas spécifiquement l'...</td>\n",
       "      <td>eau</td>\n",
       "    </tr>\n",
       "    <tr>\n",
       "      <th>2</th>\n",
       "      <td>Sucre Cristal</td>\n",
       "      <td>Authorized</td>\n",
       "      <td>Le contexte fourni ne mentionne pas spécifique...</td>\n",
       "      <td>sucre cristal</td>\n",
       "    </tr>\n",
       "    <tr>\n",
       "      <th>3</th>\n",
       "      <td>Sirop de glucose</td>\n",
       "      <td>To Avoid</td>\n",
       "      <td>Le sirop de glucose n'est pas mentionné spécif...</td>\n",
       "      <td>sirop de glucose</td>\n",
       "    </tr>\n",
       "    <tr>\n",
       "      <th>4</th>\n",
       "      <td>Huile de palmiste</td>\n",
       "      <td>To Avoid</td>\n",
       "      <td>L'huile de palmiste est soumise à des exigence...</td>\n",
       "      <td>huile de palmiste</td>\n",
       "    </tr>\n",
       "    <tr>\n",
       "      <th>5</th>\n",
       "      <td>Emulsifiant : E472a (esters d'acide acétique d...</td>\n",
       "      <td>To Avoid</td>\n",
       "      <td>L'émulsifiant E472a, également connu sous le n...</td>\n",
       "      <td>emulsifiant e472a esters dacide actique de mon...</td>\n",
       "    </tr>\n",
       "    <tr>\n",
       "      <th>6</th>\n",
       "      <td>Protéine de lait</td>\n",
       "      <td>Authorized</td>\n",
       "      <td>La « Protéine de lait » n'est pas mentionnée d...</td>\n",
       "      <td>protine de lait</td>\n",
       "    </tr>\n",
       "    <tr>\n",
       "      <th>7</th>\n",
       "      <td>Crème de lait</td>\n",
       "      <td>Authorized</td>\n",
       "      <td>La crème de lait est conforme aux exigences si...</td>\n",
       "      <td>crme de lait</td>\n",
       "    </tr>\n",
       "    <tr>\n",
       "      <th>8</th>\n",
       "      <td>Stabilisant : E407</td>\n",
       "      <td>To Avoid</td>\n",
       "      <td>Le stabilisant E407, également connu sous le n...</td>\n",
       "      <td>stabilisant e407</td>\n",
       "    </tr>\n",
       "    <tr>\n",
       "      <th>9</th>\n",
       "      <td>Gélatine bovine</td>\n",
       "      <td>To Avoid</td>\n",
       "      <td>La gélatine bovine est classée sous la catégor...</td>\n",
       "      <td>glatine bovine</td>\n",
       "    </tr>\n",
       "    <tr>\n",
       "      <th>10</th>\n",
       "      <td>Oeuf entier</td>\n",
       "      <td>Authorized</td>\n",
       "      <td>L'« Oeuf entier » est conforme aux exigences d...</td>\n",
       "      <td>oeuf entier</td>\n",
       "    </tr>\n",
       "    <tr>\n",
       "      <th>11</th>\n",
       "      <td>Purée de framboise</td>\n",
       "      <td>Authorized</td>\n",
       "      <td>La « Purée de framboise » n'est pas spécifique...</td>\n",
       "      <td>pure de framboise</td>\n",
       "    </tr>\n",
       "    <tr>\n",
       "      <th>12</th>\n",
       "      <td>Pectine</td>\n",
       "      <td>Authorized</td>\n",
       "      <td>La pectine n'est pas mentionnée spécifiquement...</td>\n",
       "      <td>pectine</td>\n",
       "    </tr>\n",
       "    <tr>\n",
       "      <th>13</th>\n",
       "      <td>Sucre</td>\n",
       "      <td>Authorized</td>\n",
       "      <td>Le contexte fourni ne mentionne pas spécifique...</td>\n",
       "      <td>sucre</td>\n",
       "    </tr>\n",
       "    <tr>\n",
       "      <th>14</th>\n",
       "      <td>Poudre de lait entier</td>\n",
       "      <td>Authorized</td>\n",
       "      <td>La charte produits Coup de Pates ne mentionne ...</td>\n",
       "      <td>poudre de lait entier</td>\n",
       "    </tr>\n",
       "    <tr>\n",
       "      <th>15</th>\n",
       "      <td>Beurre de cacao</td>\n",
       "      <td>To Avoid</td>\n",
       "      <td>Le contexte ne fournit pas d'informations spéc...</td>\n",
       "      <td>beurre de cacao</td>\n",
       "    </tr>\n",
       "    <tr>\n",
       "      <th>16</th>\n",
       "      <td>E322 (soja)</td>\n",
       "      <td>Authorized</td>\n",
       "      <td>Lécithines (E322) sont identifiées comme des a...</td>\n",
       "      <td>e322 soja</td>\n",
       "    </tr>\n",
       "    <tr>\n",
       "      <th>17</th>\n",
       "      <td>Arôme naturel de vanille</td>\n",
       "      <td>Authorized</td>\n",
       "      <td>L'« Arôme naturel de vanille » n'est pas spéci...</td>\n",
       "      <td>arme naturel de vanille</td>\n",
       "    </tr>\n",
       "    <tr>\n",
       "      <th>18</th>\n",
       "      <td>Huile de tournesol</td>\n",
       "      <td>Authorized</td>\n",
       "      <td>L'huile de tournesol n'est pas mentionnée dans...</td>\n",
       "      <td>huile de tournesol</td>\n",
       "    </tr>\n",
       "    <tr>\n",
       "      <th>19</th>\n",
       "      <td>Farine de blé</td>\n",
       "      <td>Authorized</td>\n",
       "      <td>La farine de blé est conforme aux exigences de...</td>\n",
       "      <td>farine de bl</td>\n",
       "    </tr>\n",
       "    <tr>\n",
       "      <th>20</th>\n",
       "      <td>Beurre concentré</td>\n",
       "      <td>Authorized</td>\n",
       "      <td>Le contexte fourni ne mentionne pas spécifique...</td>\n",
       "      <td>beurre concentr</td>\n",
       "    </tr>\n",
       "    <tr>\n",
       "      <th>21</th>\n",
       "      <td>Lait écrémé en poudre</td>\n",
       "      <td>Authorized</td>\n",
       "      <td>Le « Lait écrémé en poudre » n'est pas mention...</td>\n",
       "      <td>lait crm en poudre</td>\n",
       "    </tr>\n",
       "    <tr>\n",
       "      <th>22</th>\n",
       "      <td>Malt d'orge</td>\n",
       "      <td>Authorized</td>\n",
       "      <td>Le contexte fourni ne mentionne pas spécifique...</td>\n",
       "      <td>malt dorge</td>\n",
       "    </tr>\n",
       "    <tr>\n",
       "      <th>23</th>\n",
       "      <td>Sel</td>\n",
       "      <td>Authorized</td>\n",
       "      <td>Le sel n'est pas mentionné dans les exigences ...</td>\n",
       "      <td>sel</td>\n",
       "    </tr>\n",
       "    <tr>\n",
       "      <th>24</th>\n",
       "      <td>Colorant : E160c</td>\n",
       "      <td>Authorized</td>\n",
       "      <td>Le colorant E160c, également connu sous le nom...</td>\n",
       "      <td>colorant e160c</td>\n",
       "    </tr>\n",
       "    <tr>\n",
       "      <th>25</th>\n",
       "      <td>Jus concentré de betterave</td>\n",
       "      <td>Authorized</td>\n",
       "      <td>Le contexte fourni ne mentionne pas spécifique...</td>\n",
       "      <td>jus concentr de betterave</td>\n",
       "    </tr>\n",
       "    <tr>\n",
       "      <th>26</th>\n",
       "      <td>Jus concentré d'acérola</td>\n",
       "      <td>Authorized</td>\n",
       "      <td>Le « Jus concentré d'acérola » n'est pas menti...</td>\n",
       "      <td>jus concentr dacrola</td>\n",
       "    </tr>\n",
       "    <tr>\n",
       "      <th>27</th>\n",
       "      <td>Jus de citron</td>\n",
       "      <td>Authorized</td>\n",
       "      <td>Le contexte fourni ne mentionne pas spécifique...</td>\n",
       "      <td>jus de citron</td>\n",
       "    </tr>\n",
       "    <tr>\n",
       "      <th>28</th>\n",
       "      <td>Gélifiant : E406</td>\n",
       "      <td>Authorized</td>\n",
       "      <td>Le gélifiant E406, également connu sous le nom...</td>\n",
       "      <td>glifiant e406</td>\n",
       "    </tr>\n",
       "    <tr>\n",
       "      <th>29</th>\n",
       "      <td>Gélifiant : E440</td>\n",
       "      <td>Authorized</td>\n",
       "      <td>Le gélifiant E440, également connu sous le nom...</td>\n",
       "      <td>glifiant e440</td>\n",
       "    </tr>\n",
       "    <tr>\n",
       "      <th>30</th>\n",
       "      <td>Epaississant : E466</td>\n",
       "      <td>To Avoid</td>\n",
       "      <td>L'épaississant E466, également connu sous le n...</td>\n",
       "      <td>epaississant e466</td>\n",
       "    </tr>\n",
       "    <tr>\n",
       "      <th>31</th>\n",
       "      <td>Epaississant : E415</td>\n",
       "      <td>Authorized</td>\n",
       "      <td>L'épaississant E415, également connu sous le n...</td>\n",
       "      <td>epaississant e415</td>\n",
       "    </tr>\n",
       "    <tr>\n",
       "      <th>32</th>\n",
       "      <td>Acidifiant : E330</td>\n",
       "      <td>Authorized</td>\n",
       "      <td>L'acidifiant E330, également connu sous le nom...</td>\n",
       "      <td>acidifiant e330</td>\n",
       "    </tr>\n",
       "    <tr>\n",
       "      <th>33</th>\n",
       "      <td>Conservateur : E202</td>\n",
       "      <td>Authorized</td>\n",
       "      <td>Le conservateur E202, également connu sous le ...</td>\n",
       "      <td>conservateur e202</td>\n",
       "    </tr>\n",
       "    <tr>\n",
       "      <th>34</th>\n",
       "      <td>Hydrolysat de protéines de lait</td>\n",
       "      <td>Authorized</td>\n",
       "      <td>Le contexte fourni ne mentionne pas spécifique...</td>\n",
       "      <td>hydrolysat de protines de lait</td>\n",
       "    </tr>\n",
       "    <tr>\n",
       "      <th>35</th>\n",
       "      <td>Fibres d'avoine</td>\n",
       "      <td>Authorized</td>\n",
       "      <td>Les « Fibres d'avoine » ne sont pas spécifique...</td>\n",
       "      <td>fibres davoine</td>\n",
       "    </tr>\n",
       "    <tr>\n",
       "      <th>36</th>\n",
       "      <td>Glucose</td>\n",
       "      <td>Authorized</td>\n",
       "      <td>Le glucose n'est pas mentionné spécifiquement ...</td>\n",
       "      <td>glucose</td>\n",
       "    </tr>\n",
       "    <tr>\n",
       "      <th>37</th>\n",
       "      <td>Gélifiant : E440ii</td>\n",
       "      <td>Authorized</td>\n",
       "      <td>Le gélifiant E440ii, également connu sous le n...</td>\n",
       "      <td>glifiant e440ii</td>\n",
       "    </tr>\n",
       "    <tr>\n",
       "      <th>38</th>\n",
       "      <td>Arôme naturel de pistache</td>\n",
       "      <td>Authorized</td>\n",
       "      <td>L'« Arôme naturel de pistache » n'est pas spéc...</td>\n",
       "      <td>arme naturel de pistache</td>\n",
       "    </tr>\n",
       "    <tr>\n",
       "      <th>39</th>\n",
       "      <td>Gélifiant : E407 (carraghénanes, dextrose)</td>\n",
       "      <td>To Avoid</td>\n",
       "      <td>Le gélifiant E407, également connu sous le nom...</td>\n",
       "      <td>glifiant e407 carraghnanes dextrose</td>\n",
       "    </tr>\n",
       "    <tr>\n",
       "      <th>40</th>\n",
       "      <td>Extrait de spiruline</td>\n",
       "      <td>Authorized</td>\n",
       "      <td>Le contexte fourni ne mentionne pas spécifique...</td>\n",
       "      <td>extrait de spiruline</td>\n",
       "    </tr>\n",
       "  </tbody>\n",
       "</table>\n",
       "</div>"
      ],
      "text/plain": [
       "                                                 name Coeur de Gamme.0  \\\n",
       "0                                           Framboise       Authorized   \n",
       "1                                                 Eau       Authorized   \n",
       "2                                       Sucre Cristal       Authorized   \n",
       "3                                    Sirop de glucose         To Avoid   \n",
       "4                                   Huile de palmiste         To Avoid   \n",
       "5   Emulsifiant : E472a (esters d'acide acétique d...         To Avoid   \n",
       "6                                    Protéine de lait       Authorized   \n",
       "7                                       Crème de lait       Authorized   \n",
       "8                                  Stabilisant : E407         To Avoid   \n",
       "9                                     Gélatine bovine         To Avoid   \n",
       "10                                        Oeuf entier       Authorized   \n",
       "11                                 Purée de framboise       Authorized   \n",
       "12                                            Pectine       Authorized   \n",
       "13                                              Sucre       Authorized   \n",
       "14                              Poudre de lait entier       Authorized   \n",
       "15                                    Beurre de cacao         To Avoid   \n",
       "16                                        E322 (soja)       Authorized   \n",
       "17                           Arôme naturel de vanille       Authorized   \n",
       "18                                 Huile de tournesol       Authorized   \n",
       "19                                      Farine de blé       Authorized   \n",
       "20                                   Beurre concentré       Authorized   \n",
       "21                              Lait écrémé en poudre       Authorized   \n",
       "22                                        Malt d'orge       Authorized   \n",
       "23                                                Sel       Authorized   \n",
       "24                                   Colorant : E160c       Authorized   \n",
       "25                         Jus concentré de betterave       Authorized   \n",
       "26                            Jus concentré d'acérola       Authorized   \n",
       "27                                      Jus de citron       Authorized   \n",
       "28                                   Gélifiant : E406       Authorized   \n",
       "29                                   Gélifiant : E440       Authorized   \n",
       "30                                Epaississant : E466         To Avoid   \n",
       "31                                Epaississant : E415       Authorized   \n",
       "32                                  Acidifiant : E330       Authorized   \n",
       "33                                Conservateur : E202       Authorized   \n",
       "34                    Hydrolysat de protéines de lait       Authorized   \n",
       "35                                    Fibres d'avoine       Authorized   \n",
       "36                                            Glucose       Authorized   \n",
       "37                                 Gélifiant : E440ii       Authorized   \n",
       "38                          Arôme naturel de pistache       Authorized   \n",
       "39         Gélifiant : E407 (carraghénanes, dextrose)         To Avoid   \n",
       "40                               Extrait de spiruline       Authorized   \n",
       "\n",
       "                              Coeur de Gamme.0.detail  \\\n",
       "0   Le document fourni ne mentionne pas spécifique...   \n",
       "1   Le document ne mentionne pas spécifiquement l'...   \n",
       "2   Le contexte fourni ne mentionne pas spécifique...   \n",
       "3   Le sirop de glucose n'est pas mentionné spécif...   \n",
       "4   L'huile de palmiste est soumise à des exigence...   \n",
       "5   L'émulsifiant E472a, également connu sous le n...   \n",
       "6   La « Protéine de lait » n'est pas mentionnée d...   \n",
       "7   La crème de lait est conforme aux exigences si...   \n",
       "8   Le stabilisant E407, également connu sous le n...   \n",
       "9   La gélatine bovine est classée sous la catégor...   \n",
       "10  L'« Oeuf entier » est conforme aux exigences d...   \n",
       "11  La « Purée de framboise » n'est pas spécifique...   \n",
       "12  La pectine n'est pas mentionnée spécifiquement...   \n",
       "13  Le contexte fourni ne mentionne pas spécifique...   \n",
       "14  La charte produits Coup de Pates ne mentionne ...   \n",
       "15  Le contexte ne fournit pas d'informations spéc...   \n",
       "16  Lécithines (E322) sont identifiées comme des a...   \n",
       "17  L'« Arôme naturel de vanille » n'est pas spéci...   \n",
       "18  L'huile de tournesol n'est pas mentionnée dans...   \n",
       "19  La farine de blé est conforme aux exigences de...   \n",
       "20  Le contexte fourni ne mentionne pas spécifique...   \n",
       "21  Le « Lait écrémé en poudre » n'est pas mention...   \n",
       "22  Le contexte fourni ne mentionne pas spécifique...   \n",
       "23  Le sel n'est pas mentionné dans les exigences ...   \n",
       "24  Le colorant E160c, également connu sous le nom...   \n",
       "25  Le contexte fourni ne mentionne pas spécifique...   \n",
       "26  Le « Jus concentré d'acérola » n'est pas menti...   \n",
       "27  Le contexte fourni ne mentionne pas spécifique...   \n",
       "28  Le gélifiant E406, également connu sous le nom...   \n",
       "29  Le gélifiant E440, également connu sous le nom...   \n",
       "30  L'épaississant E466, également connu sous le n...   \n",
       "31  L'épaississant E415, également connu sous le n...   \n",
       "32  L'acidifiant E330, également connu sous le nom...   \n",
       "33  Le conservateur E202, également connu sous le ...   \n",
       "34  Le contexte fourni ne mentionne pas spécifique...   \n",
       "35  Les « Fibres d'avoine » ne sont pas spécifique...   \n",
       "36  Le glucose n'est pas mentionné spécifiquement ...   \n",
       "37  Le gélifiant E440ii, également connu sous le n...   \n",
       "38  L'« Arôme naturel de pistache » n'est pas spéc...   \n",
       "39  Le gélifiant E407, également connu sous le nom...   \n",
       "40  Le contexte fourni ne mentionne pas spécifique...   \n",
       "\n",
       "                                         cleaned_name  \n",
       "0                                           framboise  \n",
       "1                                                 eau  \n",
       "2                                       sucre cristal  \n",
       "3                                    sirop de glucose  \n",
       "4                                   huile de palmiste  \n",
       "5   emulsifiant e472a esters dacide actique de mon...  \n",
       "6                                     protine de lait  \n",
       "7                                        crme de lait  \n",
       "8                                    stabilisant e407  \n",
       "9                                      glatine bovine  \n",
       "10                                        oeuf entier  \n",
       "11                                  pure de framboise  \n",
       "12                                            pectine  \n",
       "13                                              sucre  \n",
       "14                              poudre de lait entier  \n",
       "15                                    beurre de cacao  \n",
       "16                                          e322 soja  \n",
       "17                            arme naturel de vanille  \n",
       "18                                 huile de tournesol  \n",
       "19                                       farine de bl  \n",
       "20                                    beurre concentr  \n",
       "21                                 lait crm en poudre  \n",
       "22                                         malt dorge  \n",
       "23                                                sel  \n",
       "24                                     colorant e160c  \n",
       "25                          jus concentr de betterave  \n",
       "26                               jus concentr dacrola  \n",
       "27                                      jus de citron  \n",
       "28                                      glifiant e406  \n",
       "29                                      glifiant e440  \n",
       "30                                  epaississant e466  \n",
       "31                                  epaississant e415  \n",
       "32                                    acidifiant e330  \n",
       "33                                  conservateur e202  \n",
       "34                     hydrolysat de protines de lait  \n",
       "35                                     fibres davoine  \n",
       "36                                            glucose  \n",
       "37                                    glifiant e440ii  \n",
       "38                           arme naturel de pistache  \n",
       "39                glifiant e407 carraghnanes dextrose  \n",
       "40                               extrait de spiruline  "
      ]
     },
     "execution_count": 9,
     "metadata": {},
     "output_type": "execute_result"
    }
   ],
   "source": [
    "agent.generated_df"
   ]
  },
  {
   "cell_type": "code",
   "execution_count": 8,
   "metadata": {},
   "outputs": [
    {
     "data": {
      "text/plain": [
       "{'crme de lait': 'crme de lait',\n",
       " 'framboise': 'framboise',\n",
       " 'sucre': 'no_match',\n",
       " 'oeufs entier issus dlevage en ponte au sol': 'ufs issus de poules leves au sol',\n",
       " 'poudre de lait entier': 'no_match',\n",
       " 'beurre de cacao': 'no_match',\n",
       " 'lcithine de soja e322': 'e322 soja',\n",
       " 'arme naturel de vanille': 'arme naturel de vanille',\n",
       " 'sirop de glucose': 'sirop de glucose',\n",
       " 'eau': 'eau',\n",
       " 'e 406': 'e406',\n",
       " 'e 440': 'glifiant e440ii',\n",
       " 'e 466': 'e466',\n",
       " 'e 415': 'no_match',\n",
       " 'e 330': 'e330',\n",
       " 'e 202': 'conservateur e202',\n",
       " 'lait entier uht': 'no_match',\n",
       " 'amidon de bl': 'no_match',\n",
       " 'farine de bl': 'no_match',\n",
       " 'huile de tournesol': 'no_match',\n",
       " 'beurre concentr': 'beurre concentr',\n",
       " 'lait crm en poudre': 'lait crm en poudre',\n",
       " 'malt dorge': 'malt dorge',\n",
       " 'jaune doeufs issus dlevage ponte au sol': 'no_match',\n",
       " 'glatine bovine': 'glatine bovine',\n",
       " 'e 472a': 'e472a esters dacide actique de mono et diglycrides dacides gras',\n",
       " 'pte de pistache': 'no_match',\n",
       " 'hydrolysat de protines de lait': 'hydrolysat de protines de lait',\n",
       " 'glucose': 'glucose',\n",
       " 'fibres davoine': 'fibres davoine',\n",
       " 'arome naturel de pistache': 'arme naturel de pistache',\n",
       " 'e 407': 'e407',\n",
       " 'extrait de spiruline': 'extrait de spiruline',\n",
       " 'jus concentr de betterave': 'jus concentr de betterave',\n",
       " 'jus concentr dacrola': 'jus concentr dacrola',\n",
       " 'jus de citron': 'jus de citron',\n",
       " 'e 160c': 'e160c'}"
      ]
     },
     "execution_count": 8,
     "metadata": {},
     "output_type": "execute_result"
    }
   ],
   "source": [
    "agent.mapping"
   ]
  }
 ],
 "metadata": {
  "kernelspec": {
   "display_name": "MegaParse-onLGVT8Y",
   "language": "python",
   "name": "python3"
  },
  "language_info": {
   "codemirror_mode": {
    "name": "ipython",
    "version": 3
   },
   "file_extension": ".py",
   "mimetype": "text/x-python",
   "name": "python",
   "nbconvert_exporter": "python",
   "pygments_lexer": "ipython3",
   "version": "3.12.3"
  }
 },
 "nbformat": 4,
 "nbformat_minor": 2
}
