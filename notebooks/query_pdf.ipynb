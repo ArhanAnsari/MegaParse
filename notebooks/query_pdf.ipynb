{
 "cells": [
  {
   "cell_type": "code",
   "execution_count": 1,
   "metadata": {},
   "outputs": [],
   "source": [
    "import sys\n",
    "sys.path.append('../')\n",
    "from megaparse.cdp.utils.query_engine import get_query_engine\n",
    "from pathlib import Path\n",
    "\n",
    "query_engine = get_query_engine(Path(\"../megaparse/cdp/CDP_QUAL_CHART_01_CHARTE_PRODUITS.md\"))"
   ]
  },
  {
   "cell_type": "code",
   "execution_count": 3,
   "metadata": {},
   "outputs": [
    {
     "name": "stdout",
     "output_type": "stream",
     "text": [
      "Generating Questions ...\n",
      "Verifying language and translating questions ...\n"
     ]
    }
   ],
   "source": [
    "from megaparse.cdp.utils.question_generator import QuestionGenerator\n",
    "\n",
    "qg = QuestionGenerator()\n",
    "questions = qg.generate_questions(Path(\"../megaparse/cdp/exemple_fournisseur.xlsx\"), 'Fiche recette', language_verification= True)\n"
   ]
  },
  {
   "cell_type": "code",
   "execution_count": 4,
   "metadata": {},
   "outputs": [],
   "source": [
    "questions_list = str(questions).split(\"\\n\")"
   ]
  },
  {
   "cell_type": "code",
   "execution_count": 5,
   "metadata": {},
   "outputs": [
    {
     "data": {
      "text/plain": [
       "['1. Est-ce que \"Framboise\" est conforme aux exigences ?',\n",
       " '2. Est-ce que \"Sucre\" est conforme aux exigences ?',\n",
       " '3. Est-ce que \"Eau\" est conforme aux exigences ?',\n",
       " '4. Est-ce que \"Sucre Cristal\" est conforme aux exigences ?',\n",
       " '5. Est-ce que \"Sirop de glucose\" est conforme aux exigences ?',\n",
       " '6. Est-ce que \"Huile de palmiste\" est conforme aux exigences ?',\n",
       " '7. Est-ce que \"Emulsifiant: E472a (esters acétiques de mono- et diglycérides d\\'acides gras)\" est conforme aux exigences ?',\n",
       " '8. Est-ce que \"Protéine de lait\" est conforme aux exigences ?',\n",
       " '9. Est-ce que \"Crème de lait\" est conforme aux exigences ?',\n",
       " '10. Est-ce que \"Stabilisant: E407\" est conforme aux exigences ?',\n",
       " '11. Est-ce que \"Gélatine bovine 200 Bloom\" est conforme aux exigences ?',\n",
       " '12. Est-ce que \"Oeuf Entier Past Sol\" est conforme aux exigences ?',\n",
       " '13. Est-ce que \"Pistache\" est conforme aux exigences ?',\n",
       " '14. Est-ce que \"Lait Entier UHT\" est conforme aux exigences ?',\n",
       " '15. Est-ce que \"Arôme Pistache Naturel\" est conforme aux exigences ?',\n",
       " '16. Est-ce que \"Extrait de spiruline\" est conforme aux exigences ?',\n",
       " '17. Est-ce que \"Amidon de blé\" est conforme aux exigences ?',\n",
       " '18. Est-ce que \"Farine de blé\" est conforme aux exigences ?',\n",
       " '19. Est-ce que \"Hydrolysat de protéines de lait\" est conforme aux exigences ?',\n",
       " '20. Est-ce que \"Glucose\" est conforme aux exigences ?',\n",
       " '21. Est-ce que \"Fibres d\\'avoine\" est conforme aux exigences ?',\n",
       " '22. Est-ce que \"Jaune Oeuf Sol\" est conforme aux exigences ?',\n",
       " '23. Est-ce que \"Huiles végétales non hydrogénées (colza)\" est conforme aux exigences ?',\n",
       " '24. Est-ce que \"Agent d\\'enrobage: E903\" est conforme aux exigences ?',\n",
       " '25. Est-ce que \"Sucre Cristal N2\" est conforme aux exigences ?',\n",
       " '26. Est-ce que \"Gélifiant: E407 (carraghénane, dextrose)\" est conforme aux exigences ?',\n",
       " '27. Est-ce que \"Sirop de glucose\" est conforme aux exigences ?',\n",
       " '28. Est-ce que \"Colorant: E160c\" est conforme aux exigences ?',\n",
       " '29. Est-ce que \"Ingrédients colorants (Jus concentré de betterave, Jus concentré d\\'acérola, Jus de citron)\" est conforme aux exigences ?',\n",
       " '30. Est-ce que \"Beurre concentré\" est conforme aux exigences ?',\n",
       " '31. Est-ce que \"Lait écrémé en poudre\" est conforme aux exigences ?',\n",
       " '32. Est-ce que \"Malt d\\'orge\" est conforme aux exigences ?',\n",
       " '33. Est-ce que \"Sel\" est conforme aux exigences ?',\n",
       " '34. Est-ce que \"Poudre de lait entier\" est conforme aux exigences ?',\n",
       " '35. Est-ce que \"Beurre de cacao\" est conforme aux exigences ?',\n",
       " '36. Est-ce que \"Emulsifiant: E322 (soja)\" est conforme aux exigences ?',\n",
       " '37. Est-ce que \"Arôme naturel de vanille\" est conforme aux exigences ?',\n",
       " '38. Est-ce que \"Pectine 325 NH 95\" est conforme aux exigences ?',\n",
       " '39. Est-ce que \"Gélifiants: E406, E440\" est conforme aux exigences ?',\n",
       " '40. Est-ce que \"Epaississants: E466, E415\" est conforme aux exigences ?',\n",
       " '41. Est-ce que \"Acidifiant: E330\" est conforme aux exigences ?',\n",
       " '42. Est-ce que \"Conservateur: E202\" est conforme aux exigences ?']"
      ]
     },
     "execution_count": 5,
     "metadata": {},
     "output_type": "execute_result"
    }
   ],
   "source": [
    "test  = questions_list[14]\n",
    "questions_list"
   ]
  },
  {
   "cell_type": "code",
   "execution_count": 2,
   "metadata": {},
   "outputs": [
    {
     "name": "stdout",
     "output_type": "stream",
     "text": [
      "{\"name\": \"Framboise\", \"detailed_answer\": \"Les framboises sont des fruits naturels, non transform\\u00e9s et sans additifs. Elles ne contiennent pas de colorants, d'ar\\u00f4mes ou de conservateurs artificiels. Elles sont \\u00e9galement exemptes d'OGM, de traitement par ionisation, de nanoparticules, de glutamates, d'exhausteurs de go\\u00fbt, de mati\\u00e8res grasses partiellement hydrog\\u00e9n\\u00e9es, d'acides gras trans non naturellement pr\\u00e9sents, d'\\u00e9dulcorants de synth\\u00e8se, de viande s\\u00e9par\\u00e9e m\\u00e9caniquement, de g\\u00e9latine porcine ou animale, et d'huile de palme. Elles ne sont pas non plus consid\\u00e9r\\u00e9es comme des ingr\\u00e9dients controvers\\u00e9s. Par cons\\u00e9quent, elles sont conformes aux exigences.\", \"decision\": \"Authorized\"}\n"
     ]
    }
   ],
   "source": [
    "response = query_engine.query(\"Est-ce que 'Framboise' est conforme aux exigences ?\")\n",
    "print(str(response))"
   ]
  },
  {
   "cell_type": "code",
   "execution_count": 10,
   "metadata": {},
   "outputs": [
    {
     "data": {
      "text/plain": [
       "'Framboise'"
      ]
     },
     "execution_count": 10,
     "metadata": {},
     "output_type": "execute_result"
    }
   ],
   "source": [
    "response.response.name"
   ]
  },
  {
   "cell_type": "code",
   "execution_count": 9,
   "metadata": {},
   "outputs": [],
   "source": [
    "from typing import List\n",
    "from tqdm import tqdm\n",
    "\n",
    "\n",
    "def compare(questions: List[str], category: str, verbose: bool = False):\n",
    "    analysis = {}\n",
    "    for question in tqdm(questions):\n",
    "        response = query_engine.query(f\"{question[:-1]} pour les produits de la catégorie {category} ?\").response\n",
    "\n",
    "        analysis.setdefault(response.decision, []).append( {\"name\": response.name, \"decision\": response.decision})\n",
    "    \n",
    "    if verbose:\n",
    "        print(\"En tant que produit de la catégorie : \", category)\n",
    "        print(\"------------------------------------------------\\n\")\n",
    "\n",
    "        print(\"Produit Authorisé : \")\n",
    "        print(\"---------------------\")\n",
    "        for el in analysis[\"Authorized\"]:\n",
    "                print(f\"{el.name} : {el.decision['detailed_answer']}\")\n",
    "\n",
    "        print(\"Produit Toléré : \")\n",
    "        print(\"---------------------\")\n",
    "        for el in analysis[\"To Avoid\"]:\n",
    "                print(f\"{el.name} : {el.decision['detailed_answer']}\")\n",
    "\n",
    "        print(\"Produit Interdit : \")\n",
    "        print(\"---------------------\")\n",
    "        for el in analysis[\"Forbidden\"]:\n",
    "                print(f\"{el.name} : {el.decision['detailed_answer']}\")\n"
   ]
  },
  {
   "cell_type": "code",
   "execution_count": 11,
   "metadata": {},
   "outputs": [
    {
     "name": "stderr",
     "output_type": "stream",
     "text": [
      "  0%|          | 0/42 [00:00<?, ?it/s]0.00s - Debugger warning: It seems that frozen modules are being used, which may\n",
      "0.00s - make the debugger miss breakpoints. Please pass -Xfrozen_modules=off\n",
      "0.00s - to python to disable frozen modules.\n",
      "0.00s - Note: Debugging will proceed. Set PYDEVD_DISABLE_FILE_VALIDATION=1 to disable this validation.\n",
      "  0%|          | 0/42 [00:03<?, ?it/s]\n"
     ]
    },
    {
     "ename": "KeyError",
     "evalue": "<DecisionEnum.authorized: 'Authorized'>",
     "output_type": "error",
     "traceback": [
      "\u001b[0;31m---------------------------------------------------------------------------\u001b[0m",
      "\u001b[0;31mKeyError\u001b[0m                                  Traceback (most recent call last)",
      "Cell \u001b[0;32mIn[11], line 1\u001b[0m\n\u001b[0;32m----> 1\u001b[0m analysis \u001b[38;5;241m=\u001b[39m \u001b[43mcompare\u001b[49m\u001b[43m(\u001b[49m\u001b[43mquestions_list\u001b[49m\u001b[43m,\u001b[49m\u001b[43m \u001b[49m\u001b[38;5;124;43m\"\u001b[39;49m\u001b[38;5;124;43mCoeur de Gamme\u001b[39;49m\u001b[38;5;124;43m\"\u001b[39;49m\u001b[43m,\u001b[49m\u001b[43m \u001b[49m\u001b[43mverbose\u001b[49m\u001b[38;5;241;43m=\u001b[39;49m\u001b[38;5;28;43;01mTrue\u001b[39;49;00m\u001b[43m)\u001b[49m\n",
      "Cell \u001b[0;32mIn[9], line 10\u001b[0m, in \u001b[0;36mcompare\u001b[0;34m(questions, category, verbose)\u001b[0m\n\u001b[1;32m      7\u001b[0m \u001b[38;5;28;01mfor\u001b[39;00m question \u001b[38;5;129;01min\u001b[39;00m tqdm(questions):\n\u001b[1;32m      8\u001b[0m     response \u001b[38;5;241m=\u001b[39m query_engine\u001b[38;5;241m.\u001b[39mquery(\u001b[38;5;124mf\u001b[39m\u001b[38;5;124m\"\u001b[39m\u001b[38;5;132;01m{\u001b[39;00mquestion[:\u001b[38;5;241m-\u001b[39m\u001b[38;5;241m1\u001b[39m]\u001b[38;5;132;01m}\u001b[39;00m\u001b[38;5;124m pour les produits de la catégorie \u001b[39m\u001b[38;5;132;01m{\u001b[39;00mcategory\u001b[38;5;132;01m}\u001b[39;00m\u001b[38;5;124m ?\u001b[39m\u001b[38;5;124m\"\u001b[39m)\u001b[38;5;241m.\u001b[39mresponse\n\u001b[0;32m---> 10\u001b[0m     \u001b[43manalysis\u001b[49m\u001b[43m[\u001b[49m\u001b[43mresponse\u001b[49m\u001b[38;5;241;43m.\u001b[39;49m\u001b[43mdecision\u001b[49m\u001b[43m]\u001b[49m\u001b[38;5;241m.\u001b[39mappend( {\u001b[38;5;124m\"\u001b[39m\u001b[38;5;124mname\u001b[39m\u001b[38;5;124m\"\u001b[39m: response\u001b[38;5;241m.\u001b[39mname, \u001b[38;5;124m\"\u001b[39m\u001b[38;5;124mdecision\u001b[39m\u001b[38;5;124m\"\u001b[39m: response\u001b[38;5;241m.\u001b[39mdecision})\n\u001b[1;32m     12\u001b[0m \u001b[38;5;28;01mif\u001b[39;00m verbose:\n\u001b[1;32m     13\u001b[0m     \u001b[38;5;28mprint\u001b[39m(\u001b[38;5;124m\"\u001b[39m\u001b[38;5;124mEn tant que produit de la catégorie : \u001b[39m\u001b[38;5;124m\"\u001b[39m, category)\n",
      "\u001b[0;31mKeyError\u001b[0m: <DecisionEnum.authorized: 'Authorized'>"
     ]
    }
   ],
   "source": [
    "analysis = compare(questions_list, \"Coeur de Gamme\", verbose=True)"
   ]
  }
 ],
 "metadata": {
  "kernelspec": {
   "display_name": "MegaParse-onLGVT8Y",
   "language": "python",
   "name": "python3"
  },
  "language_info": {
   "codemirror_mode": {
    "name": "ipython",
    "version": 3
   },
   "file_extension": ".py",
   "mimetype": "text/x-python",
   "name": "python",
   "nbconvert_exporter": "python",
   "pygments_lexer": "ipython3",
   "version": "3.12.3"
  }
 },
 "nbformat": 4,
 "nbformat_minor": 2
}
