{
 "cells": [
  {
   "cell_type": "code",
   "execution_count": 1,
   "metadata": {},
   "outputs": [],
   "source": [
    "import sys\n",
    "sys.path.append('../')\n",
    "from megaparse.cdp.utils.query_engine import get_query_engine\n",
    "from pathlib import Path\n",
    "\n",
    "query_engine = get_query_engine(Path(\"../megaparse/cdp/CDP_QUAL_CHART_01_CHARTE_PRODUITS.md\"))"
   ]
  },
  {
   "cell_type": "code",
   "execution_count": 8,
   "metadata": {},
   "outputs": [
    {
     "name": "stdout",
     "output_type": "stream",
     "text": [
      "Le code du Chlorure d'étain est E 512 et sa classification est rouge.\n"
     ]
    }
   ],
   "source": [
    "response = query_engine.query(\"Quel est le code et la classification (rouge, vert, orange) du Chlorure d'étain?\")\n",
    "print(str(response))"
   ]
  },
  {
   "cell_type": "code",
   "execution_count": 3,
   "metadata": {},
   "outputs": [
    {
     "name": "stdout",
     "output_type": "stream",
     "text": [
      "Le code du Bleu patenté V est E 131 et sa classification est orange.\n"
     ]
    }
   ],
   "source": [
    "response = query_engine.query(\"Quel est le code et la classification (rouge, vert, orange) du Bleu patenté V?\")\n",
    "print(str(response))"
   ]
  },
  {
   "cell_type": "code",
   "execution_count": 5,
   "metadata": {},
   "outputs": [
    {
     "name": "stdout",
     "output_type": "stream",
     "text": [
      "La Cire de carnauba n'est pas un additif de type orange. Elle est un additif de type vert. Son code E est E 903.\n"
     ]
    }
   ],
   "source": [
    "response = query_engine.query(\"Est ce que la Cire de carnauba est un additif de type orange? Sinon de quel type est il? Quelle est son code E ?\")\n",
    "print(str(response))"
   ]
  },
  {
   "cell_type": "code",
   "execution_count": 10,
   "metadata": {},
   "outputs": [
    {
     "name": "stdout",
     "output_type": "stream",
     "text": [
      "L'additif E250, également connu sous le nom de nitrites, n'est pas autorisé dans les produits haut de gamme selon les exigences recette. Cette information est déduite en comparant les restrictions pour chaque niveau de gamme : il est à éviter pour l'entrée de gamme et le cœur de gamme, mais est interdit pour les produits haut de gamme.\n"
     ]
    }
   ],
   "source": [
    "response = query_engine.query(\"Est ce que l'additif E250 est autorisé dans les produits haut de gamme d'après les exigences recette? Explique ta reflexion en précisant la couler si c'est un additif (note que la mention à éviter signifie que c'est autorisé)\")\n",
    "print(str(response))"
   ]
  }
 ],
 "metadata": {
  "kernelspec": {
   "display_name": "MegaParse-onLGVT8Y",
   "language": "python",
   "name": "python3"
  },
  "language_info": {
   "codemirror_mode": {
    "name": "ipython",
    "version": 3
   },
   "file_extension": ".py",
   "mimetype": "text/x-python",
   "name": "python",
   "nbconvert_exporter": "python",
   "pygments_lexer": "ipython3",
   "version": "3.12.3"
  }
 },
 "nbformat": 4,
 "nbformat_minor": 2
}
